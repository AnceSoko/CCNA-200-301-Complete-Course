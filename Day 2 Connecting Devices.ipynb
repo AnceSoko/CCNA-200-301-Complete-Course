{
 "cells": [
  {
   "cell_type": "markdown",
   "id": "f0103f1a-afc6-4858-9558-c0024d3db4dd",
   "metadata": {},
   "source": [
    "# Day 2 | Connecting Devices\n",
    "\n",
    "\n"
   ]
  },
  {
   "cell_type": "markdown",
   "id": "fb6accb5-f8fb-40d5-a076-51a62e3116e7",
   "metadata": {},
   "source": [
    "![intro](photos/day2/inicio.jpg)"
   ]
  },
  {
   "cell_type": "markdown",
   "id": "75aa1a91-49ac-4e2e-8817-2d41ceb17df6",
   "metadata": {},
   "source": [
    "For the purpose of this lab, I am assuming that Auto MDI - X is disabled or not supported on the devices, so I have to think about whether to use a straight-through or cross-over copper cable. "
   ]
  },
  {
   "cell_type": "markdown",
   "id": "84a799d3-c83b-4e26-9026-583f65b07e2a",
   "metadata": {},
   "source": [
    "| Device Type     | Transmit (TX) pins      | Receive (RX) pins    |\n",
    "| ------------- | ------------- | ------------- |\n",
    "| Router  | 1 and 2 | 3 and 6 |\n",
    "| Firewall  | 1 and 2  | 3 and 6  |\n",
    "| PC  | 1 and 2  | 3 and 6  |\n",
    "| Switch  | 3 and 6  | 1 and 2  |"
   ]
  },
  {
   "cell_type": "markdown",
   "id": "c58dac5d-6257-426c-843c-df71643c5868",
   "metadata": {},
   "source": [
    "![result](photos/day2/done.jpg)"
   ]
  },
  {
   "cell_type": "markdown",
   "id": "b168fe6b-912c-401c-9f2f-21913bc72492",
   "metadata": {},
   "source": [
    "1. PC and Server transmit data on pins 1 and 2 and receives data on pins 3 and 6. Switches are the opposite, they transmit the data on pins 3 and 6, and receive data on pins 1 and 2. So we can use straight-through cable to connect all of the PCs and Server to the Switches. Connect the FastEthernet0 interface on the PC, which is the PC`s network interface card, to any of the FastEthernet interfaces on the Switch. Do this to all 3 PCs and the Server.\n",
    "2. Now I got a bunch of Switches to connect together. Devices of the ame type requiere crossover cables, or else the transmit pins will be connected to transmit pins and receive pins will be connected to receive pins. Which will not allow data to be sent successfully between the devices.\n",
    "3. Routers are like PCs, they transmit on pins 1 and 2 and receive on pins 3 and 6. So I will connect them to the Switches with straight-through cables.\n",
    "4. It is time to connect the Routers. Since they are the same device type, we need to use cross-over cables if we use copper cabling. Pay attention to the distances between the Routers. Since R1 and R2 are just 50m apart, we can use copper cabling, which permits distances up to 100 meters. So I'll connect R1 to R2 with a cross-over cable. R1 and R3 are 3 km apart, so clearly I will use a fiber-optic connection here. Ideally here shoud be used single-mode fiber cable, which allows much longer distances, 30 km, 40 km, even more. Finally, R3 and R4 are separated by 250m, that`s too long for UTP cable, but also not so long that we need a single-mode fiber. A multimode fiber is sufficient.\n",
    "5. Lab finished!"
   ]
  },
  {
   "cell_type": "markdown",
   "id": "3b4f0ff3-b639-4b81-9666-cb79a205ad59",
   "metadata": {},
   "source": [
    "Here I added the same network to see it better:"
   ]
  },
  {
   "cell_type": "markdown",
   "id": "9680f91c-771b-4f16-8465-8903f4b33acc",
   "metadata": {},
   "source": [
    "![more understandable](photos/day2/saprotamak.jpg)"
   ]
  },
  {
   "cell_type": "code",
   "execution_count": null,
   "id": "7899d17a-7e23-4533-b92f-aa9874330c24",
   "metadata": {},
   "outputs": [],
   "source": []
  }
 ],
 "metadata": {
  "kernelspec": {
   "display_name": "Python 3 (ipykernel)",
   "language": "python",
   "name": "python3"
  },
  "language_info": {
   "codemirror_mode": {
    "name": "ipython",
    "version": 3
   },
   "file_extension": ".py",
   "mimetype": "text/x-python",
   "name": "python",
   "nbconvert_exporter": "python",
   "pygments_lexer": "ipython3",
   "version": "3.11.5"
  }
 },
 "nbformat": 4,
 "nbformat_minor": 5
}
