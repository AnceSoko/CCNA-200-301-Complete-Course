{
 "cells": [
  {
   "cell_type": "markdown",
   "id": "d2cd64b3-cb74-4cb7-826d-f5da0f4091b8",
   "metadata": {},
   "source": [
    "# Day 3 | OSI Model"
   ]
  },
  {
   "cell_type": "markdown",
   "id": "a655f45b-5979-4311-a1f2-bc1d32e4f8e3",
   "metadata": {},
   "source": [
    "![task](photos/day3/inicio.jpg)"
   ]
  },
  {
   "cell_type": "markdown",
   "id": "954e1e70-5a6d-47b1-8e5a-4f3cb3baf1bb",
   "metadata": {},
   "source": [
    "**G** means gigabit ethernet, so these interfaces operate at a speed of one gigabit per second. It can also be written as Gi or Gig, but it is not that common.  \n",
    "\n",
    "**F** means fastethernet, so these interfaces operate at 100 megabits per second. It can also be written as Fa, instead of just F.  \n",
    "\n",
    "**192.168.1.0/24** and **10.0.0/24** are network addresses.\n",
    "\n"
   ]
  },
  {
   "cell_type": "markdown",
   "id": "d7d3895d-8f65-4a72-8589-c754326b5d13",
   "metadata": {},
   "source": [
    "There are two networks displayed in this diagram:  \n",
    "- the one on the left includes SRV1, PC1, SW1, SW2 and R1's g0/0 interface. The network's IP address is 192.168.1.0/24, meaning that the SRV1 IP address is 192.168.1.100, R1 IP address is 192.168.1.1  \n",
    "- the one on the right, consisting of R1's g0/1 interface and R2 g0/0, network with an IP of 10.0.0/24. R1 is 10.0.1 and R2 is 10.0.2 "
   ]
  },
  {
   "cell_type": "markdown",
   "id": "31620e5d-1a0f-456f-87a6-b920049386df",
   "metadata": {},
   "source": [
    "For this lab it is necessary to use Simulation mode, which is being changed here:"
   ]
  },
  {
   "cell_type": "markdown",
   "id": "85558faa-079c-4100-9204-528a9a29c4d5",
   "metadata": {},
   "source": [
    "![simulation mode](photos/day3/simulation.jpg)"
   ]
  },
  {
   "cell_type": "markdown",
   "id": "db6f1bdd-31c7-464e-a86f-e6c561bc2ce0",
   "metadata": {},
   "source": [
    "By pressing forward button I can see various network traffic being send around. Let`s take a look at the screenshot below. In the At Device column we can see SW2, that means that SW2 is the one sending out the data, it says Type STP. **STP** is the spanning-tree protocol, a layer 2 protocol:"
   ]
  },
  {
   "cell_type": "markdown",
   "id": "8f15b866-b38b-4ef4-940c-b04fe1c78e18",
   "metadata": {},
   "source": [
    "![message](photos/day3/messages.jpg)"
   ]
  },
  {
   "cell_type": "markdown",
   "id": "360810fc-6460-4823-89f6-7ef6ce5527a7",
   "metadata": {},
   "source": [
    "Let's click on STP and a new window is opened. Notice here the 7 layers of OSI model and STP has information in the bottom two. Let`s look at the Layer 2 header. Notice it says **Layer 2: IEEE 802.3 Header**, IEEE 802.3 is the standard number for Ethernet, so this is an Ethernet Layer 2 Header. Down in the window it shows some information about the process, and notice here at number 2: **the device encapsulates the PDU into an Ethernet frame**:"
   ]
  },
  {
   "cell_type": "markdown",
   "id": "21f45c4d-d1e4-42f1-80c3-313e7d9e2a6e",
   "metadata": {},
   "source": [
    "![layer 2](photos/day3/layer2.jpg)"
   ]
  },
  {
   "cell_type": "markdown",
   "id": "cca98004-a0b0-45ab-ac4c-a6b8861a01c9",
   "metadata": {},
   "source": [
    "Let's take a look at Layer 1 information. I can see that the information is the two interfaces that it sends the frame out of. Information like the **physical ports, or interfaces on a device are Layer 1 information**, because it is the physical layer:"
   ]
  },
  {
   "cell_type": "markdown",
   "id": "7dd80119-df09-442d-82b1-5cb7e455ab95",
   "metadata": {},
   "source": [
    "![layer 1](photos/day3/layer1.jpg)"
   ]
  },
  {
   "cell_type": "markdown",
   "id": "c9e283a7-64da-4914-ab97-e38a5f49890e",
   "metadata": {},
   "source": [
    "Now let's look at more of network traffic. This time At Device I can see R2 and the Type is OSPF. **OSPF** is Layer 3 protocol. It is used to discover the best paths to different networks. STP only had Layer 1 and Layer 2 information, but OSPF has Layer 1, Layer 2 and Layer 3 information. Notice in the Layer 3 header, source IP address, and destination IP address. Have to remember that **IP addresses are Layer 3 information**: "
   ]
  },
  {
   "cell_type": "markdown",
   "id": "a5fce859-6bec-4593-bf3c-332f53668e30",
   "metadata": {},
   "source": [
    "![layer 3](photos/day3/layer3.jpg)"
   ]
  },
  {
   "cell_type": "markdown",
   "id": "3aa5988e-ca9f-43f2-93f0-753130e6e549",
   "metadata": {},
   "source": [
    "Now, to see some traffic that includes information all the way up to Layer 7, I will go on PC1. PC1 is using protocol called DHCP to automatically receive an IP address. To generate some DHCP traffic, and **DHCP is Layer 7 protocol**, I'll get PC1 to release its current IP address and renew it.  \n",
    "Click on PC1 > open tab Desktop > choose Command Promt"
   ]
  },
  {
   "cell_type": "markdown",
   "id": "3afc6952-4f09-4bc8-907a-fe738e1f8b59",
   "metadata": {},
   "source": [
    "In Command Promt type in:  \n",
    "```commandline\n",
    "ipconfig"
   ]
  },
  {
   "cell_type": "markdown",
   "id": "0e1a786f-672e-4d9d-8e59-7314c4f5463b",
   "metadata": {},
   "source": [
    "![ip config](photos/day3/ipconfig.jpg)"
   ]
  },
  {
   "cell_type": "markdown",
   "id": "440a8ee2-0e8a-4e87-bbb3-7480e61fab07",
   "metadata": {},
   "source": [
    "And you can see the current IP address - 192.168.1.10"
   ]
  },
  {
   "cell_type": "markdown",
   "id": "25b26d3e-92e9-4afd-826c-54207315bde3",
   "metadata": {},
   "source": [
    "To release the IP address, type:"
   ]
  },
  {
   "cell_type": "markdown",
   "id": "204ebf3c-67d3-43ec-b008-1961f008f0ba",
   "metadata": {},
   "source": [
    "```commandline\n",
    "ipconfig /release"
   ]
  },
  {
   "cell_type": "markdown",
   "id": "ae1549c7-ca1b-4b2c-adf9-0d8a48df6686",
   "metadata": {},
   "source": [
    "![release](photos/day3/release.jpg)"
   ]
  },
  {
   "cell_type": "markdown",
   "id": "e8e35f46-6fc3-421d-a33e-6709514152c9",
   "metadata": {},
   "source": [
    "Now we can see that DHCP message has appeared. Let's check it out. Notice information all the way up until Layer 7 except Layer 6 and Layer 5. That's because in TCP/IP model, which is the model actually in use, Layer 5, 6 and 7 are all combined into a single layer called the **application layer**, so you're not going to see any Layer 5 and 6 information, just consider it to be a part of the Layer 7 information.  "
   ]
  },
  {
   "cell_type": "markdown",
   "id": "2ebcce91-21a6-4e4e-b6fd-16e6afdfadc3",
   "metadata": {},
   "source": [
    "![layer 7](photos/day3/layer7.jpg)"
   ]
  },
  {
   "cell_type": "markdown",
   "id": "21b17bef-c567-4e50-bac9-05c1080e6e9d",
   "metadata": {},
   "source": [
    "Then there is Layer 4 information, it says the device encapsulates the PDU into UDP. Layer 3, 2 and 1 information is present as well"
   ]
  },
  {
   "cell_type": "markdown",
   "id": "55878d5c-c478-4fc9-8e10-6726b2040b01",
   "metadata": {},
   "source": [
    "![layer 4](photos/day3/layer4.jpg)"
   ]
  },
  {
   "cell_type": "code",
   "execution_count": null,
   "id": "fe37eb24-d7b4-462a-ba04-500ece10ca19",
   "metadata": {},
   "outputs": [],
   "source": []
  }
 ],
 "metadata": {
  "kernelspec": {
   "display_name": "Python 3 (ipykernel)",
   "language": "python",
   "name": "python3"
  },
  "language_info": {
   "codemirror_mode": {
    "name": "ipython",
    "version": 3
   },
   "file_extension": ".py",
   "mimetype": "text/x-python",
   "name": "python",
   "nbconvert_exporter": "python",
   "pygments_lexer": "ipython3",
   "version": "3.11.5"
  }
 },
 "nbformat": 4,
 "nbformat_minor": 5
}
