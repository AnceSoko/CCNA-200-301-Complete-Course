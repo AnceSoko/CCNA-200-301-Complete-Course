{
 "cells": [
  {
   "cell_type": "markdown",
   "id": "c9ed2531-77f7-4b9e-b1fc-9ca17ecae9e8",
   "metadata": {},
   "source": [
    "# Day 24 | Floating Static Routes"
   ]
  },
  {
   "cell_type": "markdown",
   "id": "b7280b7f-ab2d-4c11-acfa-ed1ad3aa7dc3",
   "metadata": {},
   "source": [
    "![rules](photos/day24/inicio.jpg)"
   ]
  },
  {
   "cell_type": "markdown",
   "id": "e993f882-b366-496e-8b90-2f36de1b59a0",
   "metadata": {},
   "source": [
    "## 1.\n"
   ]
  },
  {
   "cell_type": "markdown",
   "id": "0158bc28-a68a-4dc3-bda3-c731a43501b2",
   "metadata": {},
   "source": [
    "### Which dynamic routing protocol is Enterpise A using?"
   ]
  },
  {
   "cell_type": "markdown",
   "id": "906eed66-caa8-4131-88a1-3ea09acac9ad",
   "metadata": {},
   "source": [
    "Let's check the routing table of R1:"
   ]
  },
  {
   "cell_type": "markdown",
   "id": "4ac35ef4-d15f-4587-af21-f28702ea0303",
   "metadata": {},
   "source": [
    "![r1 routing table](photos/day24/r1route.jpg)"
   ]
  },
  {
   "cell_type": "markdown",
   "id": "618f0bca-ffd8-467f-b27c-3dfc34e79eb4",
   "metadata": {},
   "source": [
    "Here we can see:  \n",
    "C, L local routes of each R1's interface  \n",
    "S* static default route pointing to 203.0.113.9, which is ISPBR1  \n",
    "and a route to 10.0.2.0/24, learned via R2, using OSPF protocol"
   ]
  },
  {
   "cell_type": "markdown",
   "id": "028d6287-61f6-4545-be32-2a591fe540df",
   "metadata": {},
   "source": [
    "So, Enterprise A is using OSPF as their IGP, interior gateway protocol."
   ]
  },
  {
   "cell_type": "markdown",
   "id": "dad79090-60e6-4efd-a679-724c6a4e8892",
   "metadata": {},
   "source": [
    "### Which route will be used if PC1 tries to access SRV1?"
   ]
  },
  {
   "cell_type": "markdown",
   "id": "4fd04235-8d2f-4f1f-b11e-db96ded480f9",
   "metadata": {},
   "source": [
    "SRV1's IP address is 10.0.2.1, so the most specific is the one to R2, the OSPF route. "
   ]
  },
  {
   "cell_type": "markdown",
   "id": "1c6e0030-2761-406d-8051-662bd9901dc0",
   "metadata": {},
   "source": [
    "### Which route will be used if PC1 tries to access remote server 1.1.1.1 over the Internet?"
   ]
  },
  {
   "cell_type": "markdown",
   "id": "bac7d4a8-1277-48ba-802a-27a93373dc5e",
   "metadata": {},
   "source": [
    "This server is not in the diagram, by the way, but it is somewhere on the Internet. Well, the only route that matcher is the default route, so it will use the default route to ISPB."
   ]
  },
  {
   "cell_type": "markdown",
   "id": "73061e8f-1d29-42f9-964b-ff149bf82e04",
   "metadata": {},
   "source": [
    "Let's check R2 routing table:"
   ]
  },
  {
   "cell_type": "markdown",
   "id": "79b4f880-1cd5-4563-a614-9a427f73b6f9",
   "metadata": {},
   "source": [
    "![r2 route table](photos/day24/r2route.jpg)"
   ]
  },
  {
   "cell_type": "markdown",
   "id": "2b4669f2-d526-49e1-a90e-2c17516ae11c",
   "metadata": {},
   "source": [
    "R2's route table is similar to R1's. Connected and local routes for it's interfaces, a static default route to 203.0.113.13, which is ISPBR2, and an OSPF route to 10.0.1.0/24, learned via 10.0.0.1, which is R1."
   ]
  },
  {
   "cell_type": "markdown",
   "id": "e958d3ce-8094-47d3-808d-8ff6748364dc",
   "metadata": {},
   "source": [
    "Let's try the pings from PC1  \n",
    "First, let's ping SRV1:"
   ]
  },
  {
   "cell_type": "markdown",
   "id": "90e71118-c8c1-4a46-b6bb-0664bf785f66",
   "metadata": {},
   "source": [
    "![pc1 ping srv1](photos/day24/pc1ping.jpg)"
   ]
  },
  {
   "cell_type": "markdown",
   "id": "fa11d35d-ccdd-4aeb-8e1e-87254c4a7fff",
   "metadata": {},
   "source": [
    "Now let's ping that remote server on Internet:"
   ]
  },
  {
   "cell_type": "markdown",
   "id": "d366947d-939f-4e41-90ef-2805509e692c",
   "metadata": {},
   "source": [
    "![pc1 ping remote server](photos/day24/pc1pingserver.jpg)"
   ]
  },
  {
   "cell_type": "markdown",
   "id": "70fe6f1a-d82f-4be3-97d3-61179b694386",
   "metadata": {},
   "source": [
    "Now, let's switch to simulation mode and let's ping SRV1"
   ]
  },
  {
   "cell_type": "markdown",
   "id": "8b97b2c1-700b-472d-b634-00a647b344a6",
   "metadata": {},
   "source": [
    "![pc1 simulation](photos/day24/pc1simulation.jpg)"
   ]
  },
  {
   "cell_type": "markdown",
   "id": "f1c95d6c-dc3c-47b0-95b4-c8252d0e793f",
   "metadata": {},
   "source": [
    "Switch back to realtime mode and cancel the ping by pressing in Command line Control C"
   ]
  },
  {
   "cell_type": "markdown",
   "id": "424d823f-5055-4ecf-a955-74aa6259d80f",
   "metadata": {},
   "source": [
    "Now, let's get back to simulation mode and ping the remote server on Internet:"
   ]
  },
  {
   "cell_type": "markdown",
   "id": "e96f8952-c064-4a32-83d1-6ce9039de0ea",
   "metadata": {},
   "source": [
    "![pc1 simulation server interweb](photos/day24/pc1simulationserver.jpg)"
   ]
  },
  {
   "cell_type": "markdown",
   "id": "d56a0bee-4cde-4ed9-af80-6840eced95e5",
   "metadata": {},
   "source": [
    "In Packet Tracer 1.1.1.1 is just an internal interface on ISPBR1. It's called **loopback** interface."
   ]
  },
  {
   "cell_type": "markdown",
   "id": "5ea44f7c-6295-4ee0-984d-8d95001c2f6e",
   "metadata": {},
   "source": [
    "Let's check on ISPBR1:"
   ]
  },
  {
   "cell_type": "markdown",
   "id": "1ba25e5e-64cc-4dcb-b394-9faab791a191",
   "metadata": {},
   "source": [
    "![ispbr](photos/day24/ispbr1.jpg)"
   ]
  },
  {
   "cell_type": "markdown",
   "id": "d6ddb5cc-c2f0-4a8c-94a4-8dfa298055d2",
   "metadata": {},
   "source": [
    "So, actually I configured two loopback interfaces, loopback0 and loopback1, although I ended up only using one. Similar to the SVIs on a layer 3 switch, these loopback interfaces are not physical interfaces, but virtual interfaces inside the router. They have multiple uses, and one convenient use is for labs like this, to simulate remote destination  networks without actually having to set them up in the lab. So the \"remote server\" 1.1.1.1 isn't actually a server, it's just a virtual loopback address on ISPBR1."
   ]
  },
  {
   "cell_type": "markdown",
   "id": "4a3ec78d-2172-452c-a917-5e4602c1aded",
   "metadata": {},
   "source": [
    "## 2."
   ]
  },
  {
   "cell_type": "markdown",
   "id": "9972fc45-b4aa-48c2-acb7-d00f23866f19",
   "metadata": {},
   "source": [
    "### Configure floating static routes on R1 and R2 that allow PC1 to reach SRV1 if the link between R1 and R2 fails. "
   ]
  },
  {
   "cell_type": "markdown",
   "id": "d8bdd00a-8570-4a7e-83f3-b4f9e8ded500",
   "metadata": {},
   "source": [
    "Let's go on R1 first:"
   ]
  },
  {
   "cell_type": "markdown",
   "id": "ea04ee3f-55b6-44c5-8b01-5b04af4d19dd",
   "metadata": {},
   "source": [
    "![r1 static route](photos/day24/r1static.jpg)"
   ]
  },
  {
   "cell_type": "markdown",
   "id": "cf7c1899-d1ef-49fb-8063-c2fb6b0e780c",
   "metadata": {},
   "source": [
    "First, write the command like a normal command : ip route, followed by the destination network and mask, so 10.0.2.0 255.255.255.0, then the next-hop address - 203.0.113.1, which is the address of SPR1's G0/0/0 interface. Then I used the question mark, it says \"distance metric\". The word \"metric\" might be a little confusing, because this isn't the metric that dynamic routing protocols use to select the best route to a destination, this is the **AD**, administrative distance. So, to make it a floating static route, we have to set AD higher than the route learned via R2. If we don't do that, the static route will be selected instead of the OSPF route to enter the route table, which is not what we want. We want the OSPF route to be used by default, and this static route to be a backup. OSPF have an AD of 110, so let's go with 111.  \n",
    "Now, let's check the routing table. The static route we just configured is not there, because we set the AD higher than the OSPF route's 110, the OSPF route is selected instead of the static route. "
   ]
  },
  {
   "cell_type": "markdown",
   "id": "a997f12b-e596-4139-9f18-9541dbbe809b",
   "metadata": {},
   "source": [
    "R2 still needs it's floating static route, or else the return traffic from SRV1 to PC1 wont have a backup route if the link between R1 and R2 goes down.  \n",
    "Let's go on R2:"
   ]
  },
  {
   "cell_type": "markdown",
   "id": "3d64fa94-eb57-4803-999b-c09dd2df4d66",
   "metadata": {},
   "source": [
    "![r2 floating static](photos/day24/r2float.jpg)"
   ]
  },
  {
   "cell_type": "markdown",
   "id": "f8793b4e-ee3f-4f28-8757-dd4375360099",
   "metadata": {},
   "source": [
    "Just like on R1, the route doesn`t appear yet.\n"
   ]
  },
  {
   "cell_type": "markdown",
   "id": "0e84cfa1-4567-4be2-af78-982e0e3b55fe",
   "metadata": {},
   "source": [
    "## 3."
   ]
  },
  {
   "cell_type": "markdown",
   "id": "0f79fda8-4d5f-455a-9ad8-b5450f807bd8",
   "metadata": {},
   "source": [
    "## Shut down the G0/2/0 interface of R1 and R2. Do the floating static routes enter the routing tables R1 and R2? Ping from PC1 to SRV1 to confirm"
   ]
  },
  {
   "cell_type": "markdown",
   "id": "d49fc4ca-cfcc-4b00-93ad-4acdda838c80",
   "metadata": {},
   "source": [
    "Now, let's shut down R2's G0/2/0 interface and see if that changes."
   ]
  },
  {
   "cell_type": "markdown",
   "id": "602c07e7-49db-4c44-9a2a-cec2b42ae363",
   "metadata": {},
   "source": [
    "![r2 shutdown](photos/day24/r2shutdown.jpg)"
   ]
  },
  {
   "cell_type": "markdown",
   "id": "44939115-92b8-4d4e-9eb8-374146ce1d4c",
   "metadata": {},
   "source": [
    "Now the OSPF route is invalid, it can no longer be used to reach 10.0.1.0/24  \n",
    "Let's check the route table and see if the floating static route was inserted into the table instead:"
   ]
  },
  {
   "cell_type": "markdown",
   "id": "659d24ad-44a3-4ff6-bd0f-a2762067d56d",
   "metadata": {},
   "source": [
    "![r2 replace](photos/day24/r2replace.jpg)"
   ]
  },
  {
   "cell_type": "markdown",
   "id": "d082308b-757d-48b8-a244-d9b752d721c6",
   "metadata": {},
   "source": [
    "There it is, and you can see the AD of 111"
   ]
  },
  {
   "cell_type": "markdown",
   "id": "30bd0bbe-32c1-46b4-b5ec-3cdb99d38e49",
   "metadata": {},
   "source": [
    "Let's go back on R1 and check:"
   ]
  },
  {
   "cell_type": "markdown",
   "id": "adea8efb-959a-4bfc-a23a-33b03c859718",
   "metadata": {},
   "source": [
    "![r1 static route appearance](photos/day24/r1appears.jpg)"
   ]
  },
  {
   "cell_type": "markdown",
   "id": "372c8e5a-0ee3-4f95-bd42-adafc0c61fe2",
   "metadata": {},
   "source": [
    "Ok, same on R1, the floating static route now appears in the route table. "
   ]
  },
  {
   "cell_type": "markdown",
   "id": "c351b84f-0ca2-4613-95bb-f1fb708c643c",
   "metadata": {},
   "source": [
    "So let's try that ping from PC1 to SRV1 again. Once again, let's ping in the realtime first, so the ARP can complete. With this new route R1, SPR1, SPR2 and R2 will have to use ARP again"
   ]
  },
  {
   "cell_type": "markdown",
   "id": "d9c2549b-5623-47db-bb5e-165a0c71531d",
   "metadata": {},
   "source": [
    "Then let's switch to simulation mode and pingg again from PC1:"
   ]
  },
  {
   "cell_type": "markdown",
   "id": "8c66632e-8df8-41dd-97af-6e38b5f08ec7",
   "metadata": {},
   "source": [
    "![pc1 backup](photos/day24/pc1backup.jpg)"
   ]
  },
  {
   "cell_type": "markdown",
   "id": "2d9e41d2-0a07-4510-a1ab-7f10398cd876",
   "metadata": {},
   "source": [
    "Looks like the floating static route is working, the ping to SRV1 now uses the backup path via ISP A, and the return traffic does the same."
   ]
  },
  {
   "cell_type": "markdown",
   "id": "5d3f4b0f-780c-4f5c-8c9c-48ffecf92eb4",
   "metadata": {},
   "source": [
    "Before finishing this lab, let's switch back to realtime mode and check another useful tool to check the path traffic takes. In a real network you can't just turn on simulation mode like in Packet Tracer and see the path traffic takes. Instead, you can use the **traceroute** tool. In Cisco IOS the command is traceroute, however on Windows PC it is **tracert** and then the destination IP address, which is 10.0.2.1"
   ]
  },
  {
   "cell_type": "markdown",
   "id": "682c2ea9-ea07-4166-b6a1-486ea027111a",
   "metadata": {},
   "source": [
    "![pc1 traceroute](photos/day24/pc1trace.jpg)"
   ]
  },
  {
   "cell_type": "markdown",
   "id": "7c98ec37-2a13-47c1-9f69-bc7373418dfe",
   "metadata": {},
   "source": [
    "So what does TRACERT do?  \n",
    "It's like a ping, except every Layer 3 \"hop\" along the route to the destination sends a message back to the source.  \n",
    "First is 10.0.1.254, R1's G0/1 interface  \n",
    "Next, 203.0.113.1, SPR1's G0/0/0 interface  \n",
    "Then, 192.168.1.2, SPR2's G0/1/0 interface  \n",
    "Then 203.0.113.6, R2's G0/0/0 interface  \n",
    "And finally, the reply from 10.0.2.1, SRV1  \n",
    "Traceroute is a very useful tool for troubleshooting and making sure the traffic is following the intended path. "
   ]
  },
  {
   "cell_type": "markdown",
   "id": "8d92bcb8-52f9-484f-b697-7902bff14e5f",
   "metadata": {},
   "source": [
    "Lab finished!"
   ]
  },
  {
   "cell_type": "code",
   "execution_count": null,
   "id": "76461b00-63e5-4144-92d2-8815d46c8087",
   "metadata": {},
   "outputs": [],
   "source": []
  }
 ],
 "metadata": {
  "kernelspec": {
   "display_name": "Python 3 (ipykernel)",
   "language": "python",
   "name": "python3"
  },
  "language_info": {
   "codemirror_mode": {
    "name": "ipython",
    "version": 3
   },
   "file_extension": ".py",
   "mimetype": "text/x-python",
   "name": "python",
   "nbconvert_exporter": "python",
   "pygments_lexer": "ipython3",
   "version": "3.11.5"
  }
 },
 "nbformat": 4,
 "nbformat_minor": 5
}
