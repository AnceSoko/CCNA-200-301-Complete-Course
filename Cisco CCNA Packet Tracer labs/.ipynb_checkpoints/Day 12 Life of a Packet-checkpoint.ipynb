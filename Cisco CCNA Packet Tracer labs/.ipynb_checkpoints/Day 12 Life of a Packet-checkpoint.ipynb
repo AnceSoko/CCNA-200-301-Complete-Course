{
 "cells": [
  {
   "cell_type": "markdown",
   "id": "7bf85ea5-5087-4aee-9222-4dcc9db605ae",
   "metadata": {},
   "source": [
    "# Day 12 | Life of a Packet"
   ]
  },
  {
   "cell_type": "markdown",
   "id": "e5c33dfc-a79a-4b9f-bb17-e5aba945596f",
   "metadata": {},
   "source": [
    "![task](photos/day12/inicio.jpg)"
   ]
  },
  {
   "cell_type": "markdown",
   "id": "db61c592-8fcd-4ab4-992c-61f23879624d",
   "metadata": {},
   "source": [
    "## 1. PC1 pings PC4"
   ]
  },
  {
   "cell_type": "markdown",
   "id": "5d4e73fd-b73e-418c-95bf-2a32990f6a8f",
   "metadata": {},
   "source": [
    "**A)** as the PC1 and PC4 are located in different networks, PC1 will encapsulate the packet with an ethernet header, and the destination MAC address will be it`s default getaway MAC address. In this case it is R1's g0/0 interface. The source MAC address will be the PC1 MAC address, as it just sent the frame."
   ]
  },
  {
   "cell_type": "markdown",
   "id": "d646326e-6db5-4151-adfb-462134af13fe",
   "metadata": {},
   "source": [
    "**B)** It should be the same as in A), switch wont actually change the source and destination MAC addresses. It will simply use the destination MAC address field in the ethernet header to learn PC1's MAC address if it already doesn't know it, and then forward the frame to the proper destination, or flood it if it hasn't learned the destination MAC address yet."
   ]
  },
  {
   "cell_type": "markdown",
   "id": "6b23fb91-37af-46d6-9714-48215b83cd4e",
   "metadata": {},
   "source": [
    "Let's confirm these first answers using the CLI and Packet Tracer's simulation mode. First, let's send a ping from PC1 to PC4 just to let the ARP and MAC learning processes to complete."
   ]
  },
  {
   "cell_type": "markdown",
   "id": "952d837f-b1cd-43d9-8025-d19541463775",
   "metadata": {},
   "source": [
    "![ping pc1 to pc4](photos/day12/ping.jpg)"
   ]
  },
  {
   "cell_type": "markdown",
   "id": "1fc11f13-469b-40b4-80c1-d73aa16d7cae",
   "metadata": {},
   "source": [
    "Now, let's check the MAC addresses of PC1 and R1's g0/0 interface first."
   ]
  },
  {
   "cell_type": "markdown",
   "id": "1e7b0df9-6a01-45f4-b5e3-dfb7093325f5",
   "metadata": {},
   "source": [
    "In PC1 use command  \n",
    "```commandline\n",
    "ipconfig /all\n"
   ]
  },
  {
   "cell_type": "markdown",
   "id": "5fd50fea-0dca-42f3-a248-5d89b3380e6c",
   "metadata": {},
   "source": [
    "![mac address](photos/day12/macaddress.jpg)"
   ]
  },
  {
   "cell_type": "markdown",
   "id": "acc5ef26-2fe3-4dff-a0d9-828038dbcc22",
   "metadata": {},
   "source": [
    "The highlighted is PC1's MAC address, for our labs we only use last four digits, so it is 1111"
   ]
  },
  {
   "cell_type": "markdown",
   "id": "06db7ffe-110c-4ebd-baf7-34294c133fce",
   "metadata": {},
   "source": [
    "What about R1?"
   ]
  },
  {
   "cell_type": "markdown",
   "id": "fffd8702-02d3-4e5f-bc99-758ba1e8b639",
   "metadata": {},
   "source": [
    "Hop on to the CLI of R1 and enter the privileged mode and check the MAC address by using command  \n",
    "```commandline\n",
    "show interface g0/0"
   ]
  },
  {
   "cell_type": "markdown",
   "id": "307c8a0b-b026-4cea-8aab-e25af15a4280",
   "metadata": {},
   "source": [
    "![r1 interface](photos/day12/r1mac.jpg)"
   ]
  },
  {
   "cell_type": "markdown",
   "id": "9ece8c44-6214-4408-9c3a-68a9c9f556b6",
   "metadata": {},
   "source": [
    "Again, to save space, we only use last four digits in the lab, so the MAC address of R1 is aaaa"
   ]
  },
  {
   "cell_type": "markdown",
   "id": "e5bf05a6-e980-4a08-a1a3-d545a725957f",
   "metadata": {},
   "source": [
    "One more thing to point out, next to this MAC address it says **BIA**, followed by a different address. BIA or Burned In Address is another word for MAC address. The BIA is the actual MAC address assigned to the interface by the device maker, in this case Cisco, when it was made. However, you can actually configure a different MAC address in the CLI, and it will use that one. You do so to make a new one that is easier to remember."
   ]
  },
  {
   "cell_type": "markdown",
   "id": "2f029d80-aa70-4806-bdbe-8e07c23ddfb9",
   "metadata": {},
   "source": [
    "Let's check out the command to configure the MAC address  \n",
    "```commandline\n",
    "show running-config"
   ]
  },
  {
   "cell_type": "markdown",
   "id": "a5f23859-c43d-4eb8-a7dc-23f84efb50c3",
   "metadata": {},
   "source": [
    "Scroll down until:"
   ]
  },
  {
   "cell_type": "markdown",
   "id": "16f8858d-4590-42a1-a5ed-7ced5bd03760",
   "metadata": {},
   "source": [
    "![mac address](photos/day12/address.jpg)"
   ]
  },
  {
   "cell_type": "markdown",
   "id": "c03de924-0d09-4815-adbb-4330e4eadaee",
   "metadata": {},
   "source": [
    "Ok, so the last 4 digits of the PC's and R1's are their MAC addresses."
   ]
  },
  {
   "cell_type": "markdown",
   "id": "e55c5aec-3e1e-4256-8983-fe7d9ab6b5e1",
   "metadata": {},
   "source": [
    "Now, let's actually confirm by using Simulation mode. Click on simulation mode in the bottom right, then go to PC1 and send a ping to 192.168.3.1. We can see ICMP packet. Hit the arrow once, so the packet is sent to SW1. Let's check the source and destination by clicking on ICMP:"
   ]
  },
  {
   "cell_type": "markdown",
   "id": "c3cfe211-772d-4562-a5d2-b85bebe2fe07",
   "metadata": {},
   "source": [
    "![icmp](photos/day12/icmp.jpg)"
   ]
  },
  {
   "cell_type": "markdown",
   "id": "d39fc28a-c598-44e2-9ada-2bf01295c690",
   "metadata": {},
   "source": [
    "Look at the In Layers, this is the frame as it is received by SW1. Layer 2 ethernet header is from 1111, which is PC1, to AAAA, which is R1's g0/0 interface. Notice the Layer 1 information as well, showing the physical interface it was received on.  \n",
    "Now on the right here, Out Layers, is the frame as it is sent from SW1 to R1. Notice the Layer 2 information is the same - from 1111 to AAAA, this time we can see the Gigabitethernet0/1 in the Layer 1 information, as it will exit out of the g0/1 interface on route to R1."
   ]
  },
  {
   "cell_type": "markdown",
   "id": "de77aaf1-c8e0-4244-86cb-96886f1357cd",
   "metadata": {},
   "source": [
    "**C)** Although the source and destination IP addresses will remain the same, as R1 encapsulates the packet with an ethernet header, it will use the MAC address of its g0/1 interface as the source, and the MAC address of R2's g0/0 interface, which is the next hop in the route, as the destination.  \n",
    "Let's check their MAC addresses to be sure:"
   ]
  },
  {
   "cell_type": "markdown",
   "id": "a2bde289-8526-44f9-bbaa-a38f043ef3a1",
   "metadata": {},
   "source": [
    "Hop on R1, use command  \n",
    "```commandline\n",
    "show interface g0/1"
   ]
  },
  {
   "cell_type": "markdown",
   "id": "bda94461-3a5b-4315-a72a-0c99edd90ce5",
   "metadata": {},
   "source": [
    "![bbbb](photos/day12/bbbb.jpg)"
   ]
  },
  {
   "cell_type": "markdown",
   "id": "e71e514c-7074-447f-a41d-c6ee0830b93e",
   "metadata": {},
   "source": [
    "Do the same with R2  \n",
    "The MAC address is shown as CCCC"
   ]
  },
  {
   "cell_type": "markdown",
   "id": "b404c86e-3ad4-4681-a98f-4ba9f0b06fa7",
   "metadata": {},
   "source": [
    "So the source should be BBBB and the destination should be CCCC.  \n",
    "Let's use Simulation mode again to see"
   ]
  },
  {
   "cell_type": "markdown",
   "id": "5950ae3d-b789-4ba0-bcbd-9e3a4298100e",
   "metadata": {},
   "source": [
    "![perfect](photos/day12/perfect.jpg)"
   ]
  },
  {
   "cell_type": "markdown",
   "id": "2c583002-926b-4bbe-a435-e205933556c9",
   "metadata": {},
   "source": [
    "Out Layers shows as the packet as it is sent from R1  to R2, as the source is indicated as BBBB and the destination as CCCC"
   ]
  },
  {
   "cell_type": "markdown",
   "id": "ac8ce541-5d9a-4164-8df6-ce99faca790e",
   "metadata": {},
   "source": [
    "**D)** Here the explanation is similar to all the other steps. The source should be the MAC address of R2's g0/1 interface and the destination should be the MAC address of R3's g0/0 interface.  \n",
    "To be sure, we should go to each of those routers CLI and type in the command  \n",
    "```commandline\n",
    "show interface g0/0   \n",
    "```\n",
    "\n",
    "the number of the interface depends"
   ]
  },
  {
   "cell_type": "markdown",
   "id": "0fcf240c-44d5-40b9-b99f-f2dd00259bc3",
   "metadata": {},
   "source": [
    "And then, in Simulation mode, the packet should be located in R2 and we should look at the Out Layers, there the source and destination MAC addresses are mentioned"
   ]
  },
  {
   "cell_type": "markdown",
   "id": "27504cf2-4e08-4fbd-9827-ceb4613c3608",
   "metadata": {},
   "source": [
    "![dddd](photos/day12/dddd.jpg)"
   ]
  },
  {
   "cell_type": "markdown",
   "id": "a65563f1-3daa-46a2-9919-343b4a4d8edd",
   "metadata": {},
   "source": [
    "**E)** At this point the destination IP address is part of the network connected to R3, 192.168.3.0/24, so R3 knows, it can send the packet directly to PC4. So, it will set the destination MAC address to PC4's MAC address and use its own address as the source. So the answer should be the same for part E and F of this question. So I will forward packet once more so we can check the In and Out Layers for SW2. I'll go back to CLI of R3 to check the g0/1's MAC address  \n",
    "```commandline\n",
    "show interface g0/1  \n",
    "```\n",
    "The last four digits are FFFF.  \n",
    "How about PC4. Let's click on it > Desktop > Command Prompt >  \n",
    "```commandline\n",
    "ipconfig /all  \n",
    "```\n",
    "In physical address we can see the MAC address, we use only the last four digits which are 4444"
   ]
  },
  {
   "cell_type": "markdown",
   "id": "13b27d2f-0dfc-4048-982a-df62295b5c00",
   "metadata": {},
   "source": [
    "So for both **E** and **F** the answer should be:  \n",
    "the source MAC address: FFFF  \n",
    "and the destination MAC address should be 4444"
   ]
  },
  {
   "cell_type": "markdown",
   "id": "20fbc9d4-bea6-4558-9679-8f2bc23a5138",
   "metadata": {},
   "source": [
    "## 2. PC1 pings PC3"
   ]
  },
  {
   "cell_type": "markdown",
   "id": "e598bd33-f97f-4355-804b-4a5fcbbc31c6",
   "metadata": {},
   "source": [
    "The big difference is that, since the destination is on the same network as the source, PC1 wont send the packet to its default gateway. It will send it directly to PC3. Also, although, SW1 is in the middle, it wont change the source or destination MAC addresses itself, it will simply forward the frame to its destination. So both, A and B should have the same answer.  \n",
    "The source should be PC1's MAC address, which is 1111, and the destination should be PC3's MAC address. Let's quickly check PC3's MAC address. Go on CLI of PC3 and use the command  \n",
    "```commandline\n",
    "ipconfig /all  \n",
    "```\n",
    "scroll up to fastethernet0 interface and there's the MAC address (physical address), the last four digits are 3333  \n",
    "Okay, now before checking I'll ping from PC1 to PC3 just in case, to let the ARP and MAC learning processes complete. When we finish pinging, let's go to Simulation mode and ping again. Click the arrow once to send the packet to SW1. Now when we click on it, we can see that the source MAC address is the one of PC1 and the destination MAC address is the one of 3333, as we already assumed before:"
   ]
  },
  {
   "cell_type": "markdown",
   "id": "50221593-2968-414f-bcd0-4dd5064c66f0",
   "metadata": {},
   "source": [
    "![pc3 ping](photos/day12/pc3.jpg)"
   ]
  },
  {
   "cell_type": "markdown",
   "id": "d47e4a01-46d0-4109-9784-f45718d77f5f",
   "metadata": {},
   "source": [
    "## 3. PC4 pings PC1"
   ]
  },
  {
   "cell_type": "markdown",
   "id": "1192666d-b91d-4c2a-acb0-2eb1b6683b32",
   "metadata": {},
   "source": [
    "So the IP addresses never change."
   ]
  },
  {
   "cell_type": "markdown",
   "id": "76f9f0ef-c1e8-4d14-b72c-8e7a37e70035",
   "metadata": {},
   "source": [
    "PC4 to R3 g0/1 = 4444 to ffff  \n",
    "As the PC1 is located outside the PC4's network, PC4 first needs to send the packet to the default gateway."
   ]
  },
  {
   "cell_type": "markdown",
   "id": "3d643d53-175d-4b2f-ba26-48394994a754",
   "metadata": {},
   "source": [
    "R3 g0/0 to R2 g0/1 = EEEE to DDDD"
   ]
  },
  {
   "cell_type": "markdown",
   "id": "0159760b-0e2f-49b7-9d4a-60602161e4f9",
   "metadata": {},
   "source": [
    "R2 g0/0 to R1 g0/1 = CCCC to BBBB"
   ]
  },
  {
   "cell_type": "markdown",
   "id": "12eb496f-ac61-4bda-9d39-37ee0769b510",
   "metadata": {},
   "source": [
    "R1 g0/0 to PC1 = AAAA to 1111"
   ]
  },
  {
   "cell_type": "markdown",
   "id": "808f0c4c-98fd-489e-a7ef-3c43bdb57427",
   "metadata": {},
   "source": [
    "![finished](photos/day12/finished.jpg)"
   ]
  },
  {
   "cell_type": "markdown",
   "id": "c5ead970-f85f-4174-97c4-801b99735823",
   "metadata": {},
   "source": [
    "Lab finished!"
   ]
  },
  {
   "cell_type": "code",
   "execution_count": null,
   "id": "121aeec1-77be-4796-90d0-3bd4ca026c71",
   "metadata": {},
   "outputs": [],
   "source": []
  }
 ],
 "metadata": {
  "kernelspec": {
   "display_name": "Python 3 (ipykernel)",
   "language": "python",
   "name": "python3"
  },
  "language_info": {
   "codemirror_mode": {
    "name": "ipython",
    "version": 3
   },
   "file_extension": ".py",
   "mimetype": "text/x-python",
   "name": "python",
   "nbconvert_exporter": "python",
   "pygments_lexer": "ipython3",
   "version": "3.11.5"
  }
 },
 "nbformat": 4,
 "nbformat_minor": 5
}
