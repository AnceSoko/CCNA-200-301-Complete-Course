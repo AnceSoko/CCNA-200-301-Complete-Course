{
 "cells": [
  {
   "cell_type": "markdown",
   "id": "2ac5548e-5c20-4222-94bf-b65d899233a6",
   "metadata": {},
   "source": [
    "![Day1Lab](photos/day1.jpg)"
   ]
  },
  {
   "cell_type": "markdown",
   "id": "8e24eee9-1508-43ae-a7cc-fc9ac6f6e599",
   "metadata": {},
   "source": [
    "The network diagram to create in this lab as shown in the Day 1 video:"
   ]
  },
  {
   "cell_type": "markdown",
   "id": "0be71803-d01b-4800-94e6-0018b5e604c0",
   "metadata": {},
   "source": [
    "![network](photos/network.jpg)"
   ]
  },
  {
   "cell_type": "markdown",
   "id": "a18206ac-6487-42c7-b506-263ea4f404f2",
   "metadata": {},
   "source": [
    "From the bottom left corner we choose the necessary devices and place them in the center to make the diagram as shown in the first lecture`s video:"
   ]
  },
  {
   "cell_type": "markdown",
   "id": "bb86161f-017e-4043-8c91-311240225c4c",
   "metadata": {},
   "source": [
    "![placement](photos/placement.jpg)"
   ]
  },
  {
   "cell_type": "markdown",
   "id": "0606e9b3-7a8c-4dca-aa8e-ff3c471bcef8",
   "metadata": {},
   "source": [
    "This isn`t in the lab instructions, but I will rename them to match the diagram in the lecture video:"
   ]
  },
  {
   "cell_type": "markdown",
   "id": "7a4340c6-0e87-4a6d-80a5-c9f1412d1d1f",
   "metadata": {},
   "source": [
    "![rename](photos/rename.jpg)"
   ]
  },
  {
   "cell_type": "markdown",
   "id": "5f01c8b5-6eae-40f6-bcf5-646c25a86364",
   "metadata": {},
   "source": [
    "Just by simple click on the actual name and typing in the new one, we can rename the device"
   ]
  },
  {
   "cell_type": "markdown",
   "id": "d0bbebb9-39a0-4ad9-9822-7d3119ecc95f",
   "metadata": {},
   "source": [
    "The result:"
   ]
  },
  {
   "cell_type": "markdown",
   "id": "cc2965eb-aa9e-4237-8df6-dd5022a5684a",
   "metadata": {},
   "source": [
    "![rename done](photos/renamedone.jpg)"
   ]
  },
  {
   "cell_type": "markdown",
   "id": "aab0e2ba-8b0d-4a72-8209-bfdb856cd060",
   "metadata": {},
   "source": [
    "To connect devices in Packet Tracer, click on the lightning bolt icon. In this lab I will let Packet Tracer to choose the cables for me, by choosing lightniing bolt, which says: \"Automatically choose conection type.\""
   ]
  },
  {
   "cell_type": "markdown",
   "id": "26e8d3ea-840f-48b1-9183-8ab1f3c16325",
   "metadata": {},
   "source": [
    "![cable](photos/cable.jpg)"
   ]
  },
  {
   "cell_type": "markdown",
   "id": "87ab0c13-3f3b-4fae-96e8-f6cb64e6f07b",
   "metadata": {},
   "source": [
    "Choose the lightning bolt and connect all of the devices on the network. A trick to speed things up: hold down the CTRL key and click on the lightning bolt, you wont have to choose lightning bolt every time you connect two devices. "
   ]
  },
  {
   "cell_type": "markdown",
   "id": "7994c10a-da9a-47a8-b5f8-65731a8c68e8",
   "metadata": {},
   "source": [
    "![network done](photos/networkdone.jpg)"
   ]
  },
  {
   "cell_type": "markdown",
   "id": "5bfc271e-d5aa-4c0d-ab7f-7b92616d0495",
   "metadata": {},
   "source": [
    "Lab finished!"
   ]
  },
  {
   "cell_type": "code",
   "execution_count": null,
   "id": "722c31a4-4cc4-4346-a006-78e1c016fa86",
   "metadata": {},
   "outputs": [],
   "source": []
  }
 ],
 "metadata": {
  "kernelspec": {
   "display_name": "Python 3 (ipykernel)",
   "language": "python",
   "name": "python3"
  },
  "language_info": {
   "codemirror_mode": {
    "name": "ipython",
    "version": 3
   },
   "file_extension": ".py",
   "mimetype": "text/x-python",
   "name": "python",
   "nbconvert_exporter": "python",
   "pygments_lexer": "ipython3",
   "version": "3.11.5"
  }
 },
 "nbformat": 4,
 "nbformat_minor": 5
}
