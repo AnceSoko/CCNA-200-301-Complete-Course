{
 "cells": [
  {
   "cell_type": "markdown",
   "id": "9daf8a60-3b46-4669-a4e3-0f0165b2b201",
   "metadata": {},
   "source": [
    "# Day 16 | VLANs (Part1)"
   ]
  },
  {
   "cell_type": "markdown",
   "id": "82eb02c7-ee4b-4bec-8db0-ca4ebcd403c1",
   "metadata": {},
   "source": [
    "![inicio](photos/day16/inicio.jpg)"
   ]
  },
  {
   "cell_type": "markdown",
   "id": "3e17bfc2-8321-439e-8b46-f97cdec48b53",
   "metadata": {},
   "source": [
    "## 1."
   ]
  },
  {
   "cell_type": "markdown",
   "id": "96ea11e0-d29b-46c3-bd92-a49e7835ed24",
   "metadata": {},
   "source": [
    "### VLAN10"
   ]
  },
  {
   "cell_type": "markdown",
   "id": "199cee74-79bd-4ca3-a275-490bc0b59d74",
   "metadata": {},
   "source": [
    "Let's go on PC1 first:"
   ]
  },
  {
   "cell_type": "markdown",
   "id": "e4a09753-3d09-49a5-93c9-a78727ba8072",
   "metadata": {},
   "source": [
    "![pc1 gateway](photos/day16/pc1gateway.jpg)"
   ]
  },
  {
   "cell_type": "markdown",
   "id": "5c63bbc0-5eb5-4473-ab8b-a2dcd9af0032",
   "metadata": {},
   "source": [
    "![pc1 ethernet](photos/day16/pc1ethernet.jpg)"
   ]
  },
  {
   "cell_type": "markdown",
   "id": "e9aa2314-1355-413c-bc4b-7c819565f904",
   "metadata": {},
   "source": [
    "Next, PC2:"
   ]
  },
  {
   "cell_type": "markdown",
   "id": "868921f6-4892-43c2-956c-4978febdda40",
   "metadata": {},
   "source": [
    "![pc2 gateway](photos/day16/pc2gateway.jpg)"
   ]
  },
  {
   "cell_type": "markdown",
   "id": "568130ab-3dc4-4e71-80af-aac225ea97fe",
   "metadata": {},
   "source": [
    "![pc2 ethernet](photos/day16/pc2ethernet.jpg)"
   ]
  },
  {
   "cell_type": "markdown",
   "id": "ef96e82f-6964-4de3-b348-ebcb4b6737cf",
   "metadata": {},
   "source": [
    "### VLAN20"
   ]
  },
  {
   "cell_type": "markdown",
   "id": "141ea3d5-2c0c-4ca6-a994-86866523033c",
   "metadata": {},
   "source": [
    "Next, PC3:"
   ]
  },
  {
   "cell_type": "markdown",
   "id": "571d277c-1a84-4621-aa10-36e50f5e8c42",
   "metadata": {},
   "source": [
    "![pc3 gateway](photos/day16/pc3gateway.jpg)"
   ]
  },
  {
   "cell_type": "markdown",
   "id": "af7a48b5-b728-42c6-8010-18b482be5815",
   "metadata": {},
   "source": [
    "![pc3 ethernet](photos/day16/pc3ethernet.jpg)"
   ]
  },
  {
   "cell_type": "markdown",
   "id": "5c57fb3a-4fd5-4d85-9c93-575f7a857813",
   "metadata": {},
   "source": [
    "Next, PC4:"
   ]
  },
  {
   "cell_type": "markdown",
   "id": "5d6e516e-5f5e-427f-b2e4-d206f34ea21d",
   "metadata": {},
   "source": [
    "![pc4 gateway](photos/day16/pc4gateway.jpg)"
   ]
  },
  {
   "cell_type": "markdown",
   "id": "3a742159-8310-430b-848e-2db274ece512",
   "metadata": {},
   "source": [
    "![pc4 ethernet](photos/day16/pc4ethernet.jpg)"
   ]
  },
  {
   "cell_type": "markdown",
   "id": "19b08405-a1f7-4845-af68-bd866c0550cc",
   "metadata": {},
   "source": [
    "### VLAN30"
   ]
  },
  {
   "cell_type": "markdown",
   "id": "13751631-7e70-4215-9d6a-34bd24a32f7f",
   "metadata": {},
   "source": [
    "First, PC5:"
   ]
  },
  {
   "cell_type": "markdown",
   "id": "49d2cd0f-d35e-4a6e-8614-c90f8fd43222",
   "metadata": {},
   "source": [
    "![pc5 gateway](photos/day16/pc5gateway.jpg)"
   ]
  },
  {
   "cell_type": "markdown",
   "id": "a0e4886c-0e5c-4467-954b-cca3a2a16578",
   "metadata": {},
   "source": [
    "![pc5 ethernet](photos/day16/pc5ethernet.jpg)"
   ]
  },
  {
   "cell_type": "markdown",
   "id": "da479978-b51e-44bf-a4bc-473462f38f3f",
   "metadata": {},
   "source": [
    "Next, PC6:"
   ]
  },
  {
   "cell_type": "markdown",
   "id": "18a7093d-27f5-484f-898b-2d33d17b2495",
   "metadata": {},
   "source": [
    "![pc6 gateway](photos/day16/pc6gateway.jpg)"
   ]
  },
  {
   "cell_type": "markdown",
   "id": "1a9d9dac-2107-4629-9a5d-e5c017685bb0",
   "metadata": {},
   "source": [
    "![pc6 ethernet](photos/day16/pc6ethernet.jpg)"
   ]
  },
  {
   "cell_type": "markdown",
   "id": "9c8c4c30-dcb3-4cbf-8dfd-f501b3b1de95",
   "metadata": {},
   "source": [
    "## 2."
   ]
  },
  {
   "cell_type": "markdown",
   "id": "1988eb6b-1c4b-445f-aabb-7b4ad7c5ed17",
   "metadata": {},
   "source": [
    "Select a straight thorugh cable. With that connect SW1 G0/1 with R1 G0/0; SW1 G1/1 with R1 G0/1; SW1 G2/1 with R1 G0/2:"
   ]
  },
  {
   "cell_type": "markdown",
   "id": "619b4857-ce92-491b-a1c2-4e4c199a136a",
   "metadata": {},
   "source": [
    "![CONNECTIONS](PHOTOS/DAY16/CONNECTION.JPG)"
   ]
  },
  {
   "cell_type": "markdown",
   "id": "9b3f7a4a-3efc-4545-bcfd-cf3b3fd89d8c",
   "metadata": {},
   "source": [
    "![CONNECTIONS2](PHOTOS/DAY16/CONNECTIONS2.JPG)"
   ]
  },
  {
   "cell_type": "markdown",
   "id": "37057bcb-b98e-416f-8966-2af4fee2a66e",
   "metadata": {},
   "source": [
    "Now, let's configure R1"
   ]
  },
  {
   "cell_type": "markdown",
   "id": "9b84c195-00a2-4fa5-b80e-ec66ca114981",
   "metadata": {},
   "source": [
    "I'll configure G0/0 for VLAN10; G0/1 for VLAN20 and G0/2 for VLAN30"
   ]
  },
  {
   "cell_type": "markdown",
   "id": "0872bd4d-3f6e-41be-a646-183c17240510",
   "metadata": {},
   "source": [
    "![r1 config](photos/day16/r1conf.jpg)"
   ]
  },
  {
   "cell_type": "markdown",
   "id": "307d5645-8c22-45d5-a19e-a887c4b23fe8",
   "metadata": {},
   "source": [
    "Let's confirm:"
   ]
  },
  {
   "cell_type": "markdown",
   "id": "714c8546-1396-4096-a3ce-ec00db809fe5",
   "metadata": {},
   "source": [
    "![r1 show ip](photos/day16/r1showip.jpg)"
   ]
  },
  {
   "cell_type": "markdown",
   "id": "e5cf1191-9d6f-4adc-93b3-1098f2925b51",
   "metadata": {},
   "source": [
    "Here we can see the three gateway addresses we configured for each VLAN"
   ]
  },
  {
   "cell_type": "markdown",
   "id": "be5d74f1-a424-47fe-bc84-bee929151f6d",
   "metadata": {},
   "source": [
    "## 3."
   ]
  },
  {
   "cell_type": "markdown",
   "id": "9f2321b2-b82b-490b-a7e9-5b2f63c48004",
   "metadata": {},
   "source": [
    "Let's go to the CLI of SW1:"
   ]
  },
  {
   "cell_type": "markdown",
   "id": "bae33049-7ab5-4b29-bbea-a87c224759d1",
   "metadata": {},
   "source": [
    "![create vlans](photos/day16/createvlan.jpg)"
   ]
  },
  {
   "cell_type": "markdown",
   "id": "b0fad5f5-a7dd-49fa-a8c7-911a5cd6974a",
   "metadata": {},
   "source": [
    "Here we ca ncheck the VLANs we just created in the previous step:"
   ]
  },
  {
   "cell_type": "markdown",
   "id": "8cd30ea9-f23f-42e3-82c7-be127422052e",
   "metadata": {},
   "source": [
    "![vlans](photos/day16/vlans.jpg)"
   ]
  },
  {
   "cell_type": "markdown",
   "id": "c43c7bcb-2d56-4fd8-9702-c10610edd2f6",
   "metadata": {},
   "source": [
    "Let's change their name now:\n"
   ]
  },
  {
   "cell_type": "markdown",
   "id": "49841ce6-cfdf-480f-a084-fc769177d636",
   "metadata": {},
   "source": [
    "![NAMES](PHOTOS/DAY16/NAMES.JPG)"
   ]
  },
  {
   "cell_type": "markdown",
   "id": "5fcdf3f6-f728-4f02-81a4-c644e82c4901",
   "metadata": {},
   "source": [
    "## 4."
   ]
  },
  {
   "cell_type": "markdown",
   "id": "61d755b3-4265-4dc0-bbed-170137e69d06",
   "metadata": {},
   "source": [
    "Finally, let's check some connectivity"
   ]
  },
  {
   "cell_type": "markdown",
   "id": "1e9b9238-a9df-496d-9d4a-e74f9c69c9ff",
   "metadata": {},
   "source": [
    "I'l do some pings from PC1:"
   ]
  },
  {
   "cell_type": "markdown",
   "id": "aaab6cc6-3f82-45c3-b2de-229d60900f38",
   "metadata": {},
   "source": [
    "First, let`s ping to complete the ARP process:"
   ]
  },
  {
   "cell_type": "markdown",
   "id": "0f95a91c-af68-4d5b-829d-0bb5ce743674",
   "metadata": {},
   "source": [
    "![pc1 to pc3](photos/day16/topc3.jpg)"
   ]
  },
  {
   "cell_type": "markdown",
   "id": "a8e60659-53a9-411c-9176-d8c54e0b6868",
   "metadata": {},
   "source": [
    "Ok, so we can ping PC3, now let`s ping PC5 in VLAN30:"
   ]
  },
  {
   "cell_type": "markdown",
   "id": "f4ea7279-e6cd-4be1-9340-cd1e784a40f9",
   "metadata": {},
   "source": [
    "![pc1 to pc5](photos/day16/topc5.jpg)"
   ]
  },
  {
   "cell_type": "markdown",
   "id": "548a20c0-882c-4e78-af4b-89af95121cfc",
   "metadata": {},
   "source": [
    "Ok, so we can reach PC5 as well."
   ]
  },
  {
   "cell_type": "markdown",
   "id": "657cb8ca-f7ca-409d-b560-dcd90fb7cbc4",
   "metadata": {},
   "source": [
    "Now, let`s go into simulation mode to see the path the packet takes to reach PC3 from PC1:"
   ]
  },
  {
   "cell_type": "markdown",
   "id": "4ae7cff7-bf2a-4673-b284-0a441bdc986b",
   "metadata": {},
   "source": [
    "![SIMULATION MODE](PHOTOS/DAY16/SIMULATION.JPG)"
   ]
  },
  {
   "cell_type": "markdown",
   "id": "5d4c7611-d06c-4779-ab36-67a467038886",
   "metadata": {},
   "source": [
    "As we can see, the packet goes from PC1 to SW1, then to R1, from R1 back to SW1 and then from SW1 to PC3"
   ]
  },
  {
   "cell_type": "markdown",
   "id": "04d7d63a-626c-4869-9f74-f26c6f146b45",
   "metadata": {},
   "source": [
    "This means that R1 is doing the inter-vlan routing for us, because it has one interface in each VLAN."
   ]
  },
  {
   "cell_type": "markdown",
   "id": "a67d9452-35b0-44a0-8976-96d0aff90e98",
   "metadata": {},
   "source": [
    "I`ll ping VLAN10 broadcast IP, which is 10.0.0.63, to see if the broadcast only goes to the devices in VLAN10 as it should be:"
   ]
  },
  {
   "cell_type": "markdown",
   "id": "5e7dbbc0-a90e-406a-845e-e119067dd5ec",
   "metadata": {},
   "source": [
    "![broadcast](photos/day16/broadcast.jpg)"
   ]
  },
  {
   "cell_type": "markdown",
   "id": "3e0d22ad-f73c-41df-a4be-f8e3c8b1dd36",
   "metadata": {},
   "source": [
    "As we can see, broadcast was sent to the correct devices, only the VLAN10"
   ]
  }
 ],
 "metadata": {
  "kernelspec": {
   "display_name": "Python 3 (ipykernel)",
   "language": "python",
   "name": "python3"
  },
  "language_info": {
   "codemirror_mode": {
    "name": "ipython",
    "version": 3
   },
   "file_extension": ".py",
   "mimetype": "text/x-python",
   "name": "python",
   "nbconvert_exporter": "python",
   "pygments_lexer": "ipython3",
   "version": "3.11.5"
  }
 },
 "nbformat": 4,
 "nbformat_minor": 5
}
