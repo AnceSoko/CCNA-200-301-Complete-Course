{
 "cells": [
  {
   "cell_type": "markdown",
   "id": "5e8c1414-2128-4cf9-96b1-bb422d6115f8",
   "metadata": {},
   "source": [
    "# Day 26 | Configuring OSPF(1)"
   ]
  },
  {
   "cell_type": "markdown",
   "id": "cea65dbe-cac9-49f8-a154-01a7db3336f5",
   "metadata": {},
   "source": [
    "![inicio](photos/day26/inicio.jpg)"
   ]
  },
  {
   "cell_type": "code",
   "execution_count": null,
   "id": "1a4e9cb9-c146-484d-bba6-d69986a2337c",
   "metadata": {},
   "outputs": [],
   "source": []
  }
 ],
 "metadata": {
  "kernelspec": {
   "display_name": "Python 3 (ipykernel)",
   "language": "python",
   "name": "python3"
  },
  "language_info": {
   "codemirror_mode": {
    "name": "ipython",
    "version": 3
   },
   "file_extension": ".py",
   "mimetype": "text/x-python",
   "name": "python",
   "nbconvert_exporter": "python",
   "pygments_lexer": "ipython3",
   "version": "3.11.5"
  }
 },
 "nbformat": 4,
 "nbformat_minor": 5
}
