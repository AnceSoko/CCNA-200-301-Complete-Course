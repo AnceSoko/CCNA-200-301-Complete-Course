{
 "cells": [
  {
   "cell_type": "markdown",
   "id": "6a146727-856d-4b51-a637-1a8c13eec08e",
   "metadata": {},
   "source": [
    "# Day 15 | Subnetting (VLSM)"
   ]
  },
  {
   "cell_type": "markdown",
   "id": "7f1014f8-50ba-43e7-8503-0c8b3beb7f35",
   "metadata": {},
   "source": [
    "![day 15](photos/day15/inicio.jpg)"
   ]
  },
  {
   "cell_type": "markdown",
   "id": "c1e853f5-33c8-413d-a23f-2e781ce273e1",
   "metadata": {},
   "source": [
    "Assing the largest subnet at the start of the address space, then the second largest, etc until all the subnets are assigned. "
   ]
  },
  {
   "cell_type": "markdown",
   "id": "d14a5533-b02b-4d27-ad0a-b46ff008a11d",
   "metadata": {},
   "source": [
    "So in this task, the subnets will be assigned in this order:  \n",
    "- LAN 2 : 64 hosts\n",
    "- LAN 1: 45 hosts\n",
    "- LAN 3: 14 hosts\n",
    "- LAN 4: 9 hosts\n",
    "- point-to-point link"
   ]
  },
  {
   "cell_type": "markdown",
   "id": "6b79113d-44d6-42df-b26f-b7ada0fdd34e",
   "metadata": {},
   "source": [
    "### LAN 2: 64 hosts"
   ]
  },
  {
   "cell_type": "markdown",
   "id": "d6f5f146-2a81-40b7-9a51-2f2f3be3ac82",
   "metadata": {},
   "source": [
    "![lan 2](photos/day15/lan2right.jpg)"
   ]
  },
  {
   "cell_type": "markdown",
   "id": "e6fba1f1-9e40-43fa-ae49-58615067b168",
   "metadata": {},
   "source": [
    "Let's assign addresses to PC2 and R1:"
   ]
  },
  {
   "cell_type": "markdown",
   "id": "3ac72752-a83a-423a-b63c-46b3157cbe64",
   "metadata": {},
   "source": [
    "![r1 configuration](photos/day15/r1config.jpg)"
   ]
  },
  {
   "cell_type": "markdown",
   "id": "a83b9689-f1b4-4f08-92dd-ec15f4525806",
   "metadata": {},
   "source": [
    "Go to R1 Command Line Interface  \n",
    " - enable - enter privileged exec mode\n",
    " - config terminal - enter global config mode\n",
    " - int g0/1 - R1's g0/1 interface is in LAN2, so Interface g0/1 to configure\n",
    " - ip address 192.168.5.126 255.255.255.128 - the broadcast address is 192.168.5.127, so let's configure R1's IP address as one below it, the last usable address, and for a /25 prefix length the subnet mask will be 255.255.255.128\n",
    " - no shutdown - to enable the interface\n"
   ]
  },
  {
   "cell_type": "markdown",
   "id": "a5e87664-afb8-40f6-a1ad-190284b9f4bf",
   "metadata": {},
   "source": [
    "Let's confirm our configuration:"
   ]
  },
  {
   "cell_type": "markdown",
   "id": "df26a303-ca95-482d-9cdf-400bea2dc511",
   "metadata": {},
   "source": [
    "![r1 config done](photos/day15/r1show.jpg)"
   ]
  },
  {
   "cell_type": "markdown",
   "id": "055285aa-73fb-47b7-9218-85182d726653",
   "metadata": {},
   "source": [
    "The \"SHOW IP INTERFACE\" command shows various information about the interface, primarly, layer 3 information. You might notice broadcast address of 255.255.255.255, this address basically functions the same as the subnet broadcast address of 192.168.5.127 and it can be used for any network. Interfaces will display the same broadcast address too. Keep in mind, if a host sends a broadcast to 255.255.255.255, it wont be sent to ALL networks, it will stay in the local subnet, and the router will not route it other networks. The subnet broadcast address however, 192.168.5.127 in this case, can be used by hosts in other subnets to send a broadcast to this subnet. "
   ]
  },
  {
   "cell_type": "markdown",
   "id": "272aebe5-7848-4570-9dee-871da096cad6",
   "metadata": {},
   "source": [
    "Now let's configure PC2:"
   ]
  },
  {
   "cell_type": "markdown",
   "id": "553ece69-8f3b-4095-b6f1-84082c1d15c9",
   "metadata": {},
   "source": [
    "First, let's set the default getaway (which is R1):"
   ]
  },
  {
   "cell_type": "markdown",
   "id": "4b1ef995-931b-4c6e-83e8-f34c8da37261",
   "metadata": {},
   "source": [
    "![pc2 gateway](photos/day15/pc2gateway.jpg)\n"
   ]
  },
  {
   "cell_type": "markdown",
   "id": "b59bf642-298c-4724-a530-1f7b0ce23ad9",
   "metadata": {},
   "source": [
    "Then click on FastEthernet0 and configure IP address and subnet mask:"
   ]
  },
  {
   "cell_type": "markdown",
   "id": "da4b9221-8db0-4dd8-a947-435412a27c0c",
   "metadata": {},
   "source": [
    "Enter the first usable IP address and notice, when you enter TAB, the subnet mask is automatically filled with 255.255.255.0, but be careful, since this isn't classful network - it's  a subnet, let's change the last octet to 128. That's all for this subnet."
   ]
  },
  {
   "cell_type": "markdown",
   "id": "512932c0-313c-4bba-b31e-33cc5910a33f",
   "metadata": {},
   "source": [
    "![pc2 ip address](photos/day15/pc2ip.jpg)"
   ]
  },
  {
   "cell_type": "markdown",
   "id": "619931d9-6e7d-4fef-b969-53d0b2f3a6b8",
   "metadata": {},
   "source": [
    "### LAN 1: 45 hosts"
   ]
  },
  {
   "cell_type": "markdown",
   "id": "6ca2e507-a426-4e62-a1a8-0984b93a0681",
   "metadata": {},
   "source": [
    "![lan 1](photos/day15/lan1.jpg)"
   ]
  },
  {
   "cell_type": "markdown",
   "id": "37f37761-f6bb-4a14-b973-26814dd69b5f",
   "metadata": {},
   "source": [
    "The network's address is the next address after LAN's 4 broadcast address.  \n",
    "The broadcast's address with all the host bits set to 1 is 192.168.5.191"
   ]
  },
  {
   "cell_type": "markdown",
   "id": "7182697d-091d-4d06-865c-cb2668f5053c",
   "metadata": {},
   "source": [
    "Let's configure the Router and the PC:"
   ]
  },
  {
   "cell_type": "markdown",
   "id": "3bfa36a0-86bb-4517-9249-e4e673d00f7b",
   "metadata": {},
   "source": [
    "![r1 g0/0 config](photos/day15/r1config2.jpg)"
   ]
  },
  {
   "cell_type": "markdown",
   "id": "14adcecf-b39d-4972-ae47-c1e691af99f1",
   "metadata": {},
   "source": [
    "Now let's configure PC1:"
   ]
  },
  {
   "cell_type": "markdown",
   "id": "e547e459-3af0-45a1-9acd-1562c26b3320",
   "metadata": {},
   "source": [
    "![pc1 gateway](photos/day15/pc1gateway.jpg)"
   ]
  },
  {
   "cell_type": "markdown",
   "id": "ee956446-2547-4c43-8f34-28184f5df522",
   "metadata": {},
   "source": [
    "![pc1 ip](photos/day15/pc1ip.jpg)"
   ]
  },
  {
   "cell_type": "markdown",
   "id": "1d8e3ea0-2b1c-4ab7-bf0b-ab29b79bf7ad",
   "metadata": {},
   "source": [
    "That's it for LAN1"
   ]
  },
  {
   "cell_type": "markdown",
   "id": "9645695f-9ceb-4849-bf3f-d7ae83d8718e",
   "metadata": {},
   "source": [
    "### LAN 3: 14 hosts"
   ]
  },
  {
   "cell_type": "markdown",
   "id": "e36336ef-c5ff-4224-ab7f-1b44650a4970",
   "metadata": {},
   "source": [
    "![lan 3](photos/day15/lan3.jpg)"
   ]
  },
  {
   "cell_type": "markdown",
   "id": "89fc51e4-7469-4fc1-8460-46bcbade2660",
   "metadata": {},
   "source": [
    "Let's confirgure R2:"
   ]
  },
  {
   "cell_type": "markdown",
   "id": "50383578-ed3c-468e-a289-6e2d5ea734f5",
   "metadata": {},
   "source": [
    "![r2 config](photos/day15/r2.jpg)"
   ]
  },
  {
   "cell_type": "markdown",
   "id": "ada89fab-7b4a-47d2-890d-ef90d42cba3f",
   "metadata": {},
   "source": [
    "Let's configure PC3:"
   ]
  },
  {
   "cell_type": "markdown",
   "id": "db187e6b-1102-4804-a974-f79747ee81f2",
   "metadata": {},
   "source": [
    "![pc3 gateway](photos/day15/pc3gateway.jpg)"
   ]
  },
  {
   "cell_type": "markdown",
   "id": "fc2e70bc-dac5-47f5-b0ff-39a07b66a8f8",
   "metadata": {},
   "source": [
    "![pc3 ip](photos/day15/pc3ip.jpg)"
   ]
  },
  {
   "cell_type": "markdown",
   "id": "ed1ec1c9-8823-4439-a47b-1e5b60ccdb81",
   "metadata": {},
   "source": [
    "### LAN 4: 9 hosts"
   ]
  },
  {
   "cell_type": "markdown",
   "id": "9e252784-ad3d-4290-9118-469d33ca6928",
   "metadata": {},
   "source": [
    "![lan 4](photos/day15/lan4.jpg)"
   ]
  },
  {
   "cell_type": "markdown",
   "id": "27f6e8db-abce-48e6-ae03-1bc3217e3b0c",
   "metadata": {},
   "source": [
    "Let's go back to R2 and configure it's g0/1 interface:"
   ]
  },
  {
   "cell_type": "markdown",
   "id": "15385ec6-fe88-4b94-a1a4-b760edc7da97",
   "metadata": {},
   "source": [
    "![r2 interface2](photos/day15/r2int2.jpg)"
   ]
  },
  {
   "cell_type": "markdown",
   "id": "3537cae1-0550-46ac-ba5d-0b8d83204c9c",
   "metadata": {},
   "source": [
    "Let's go to PC4:"
   ]
  },
  {
   "cell_type": "markdown",
   "id": "7513b089-dfcd-4a00-a191-b7be1dafe06a",
   "metadata": {},
   "source": [
    "![pc4 gateway](photos/day15/pc4gateway.jpg)"
   ]
  },
  {
   "cell_type": "markdown",
   "id": "c5025f9c-df9d-4097-9309-7ac6ea442a55",
   "metadata": {},
   "source": [
    "![pc4 ip](photos/day15/pc4ip.jpg)"
   ]
  },
  {
   "cell_type": "markdown",
   "id": "7aea6228-2074-47aa-8c2b-262fa1d09363",
   "metadata": {},
   "source": [
    "That's it for LAN 4."
   ]
  },
  {
   "cell_type": "markdown",
   "id": "f0cde081-6c64-442d-98e9-3929e5ebe77a",
   "metadata": {},
   "source": [
    "### Point-to-point connection between R1 and R2"
   ]
  },
  {
   "cell_type": "markdown",
   "id": "05e736c9-2ec4-428e-81e9-0836c5712fb2",
   "metadata": {},
   "source": [
    "![point to point](photos/day15/p2p.jpg)"
   ]
  },
  {
   "cell_type": "markdown",
   "id": "a93f598d-9f0a-4858-9db2-5f36a3250fa8",
   "metadata": {},
   "source": [
    "We will use first usable address for R1 and last usable address for R2."
   ]
  },
  {
   "cell_type": "markdown",
   "id": "a2a66171-33d3-492b-bce9-c1a9e37c8cf0",
   "metadata": {},
   "source": [
    "![r1 g0/0/0](photos/day15/r1000.jpg)"
   ]
  },
  {
   "cell_type": "markdown",
   "id": "4e89a00e-8adc-4ee4-befe-fcf276517e3e",
   "metadata": {},
   "source": [
    "Let's go on R2:"
   ]
  },
  {
   "cell_type": "markdown",
   "id": "649e0b97-7096-4eb3-a70e-5526b9ee746c",
   "metadata": {},
   "source": [
    "![r2 g0/0/0](photos/day15/r2000.jpg)"
   ]
  },
  {
   "cell_type": "markdown",
   "id": "c7ec1508-0ab1-49bb-8d1e-a9a8cd3f142a",
   "metadata": {},
   "source": [
    "Now, the last step is to configure static routes on each router. Each router has three connected networks. Those are the point-to-point connection, LAN 1 and LAN 2 for R1, and LAN 3 and LAN 4  for R2. So, we'll have to configure two static routes for each router. Let's start with R2:"
   ]
  },
  {
   "cell_type": "markdown",
   "id": "d946b5b8-e709-4a4a-a969-6682786ff1ba",
   "metadata": {},
   "source": [
    "![r2 static routes](photos/day15/r2static.jpg)"
   ]
  },
  {
   "cell_type": "markdown",
   "id": "96d846c1-b467-498f-a01b-9b7623d1b43e",
   "metadata": {},
   "source": [
    "We configure static routes to LAN 1 and LAN 2 from R2.  \n",
    "- exit - go back to global config mode  \n",
    "- ip route 192.168.5.128 255.255.255.192 192.168.5.225 - LAN's 1 network address and next hop\n",
    "- the same with LAN 2\n",
    "- check the configurations and with S there you can see the Static routes we just configured"
   ]
  },
  {
   "cell_type": "markdown",
   "id": "44737f50-d35a-4f12-8d46-35bd795b9b8f",
   "metadata": {},
   "source": [
    "![r1 routes](photos/day15/r1routes.jpg)"
   ]
  },
  {
   "cell_type": "markdown",
   "id": "7df31a09-d097-45fa-8ee9-37d3388aac8f",
   "metadata": {},
   "source": [
    "That's it for R1 and R2."
   ]
  },
  {
   "cell_type": "markdown",
   "id": "8cdf5ef7-f2b5-4f39-a3a9-b04b8812731d",
   "metadata": {},
   "source": [
    "Now let's try to ping, to see if our routes work"
   ]
  },
  {
   "cell_type": "markdown",
   "id": "8e9a41ba-070a-429c-8a13-3cf476666cd9",
   "metadata": {},
   "source": [
    "From PC1  to PC4:"
   ]
  },
  {
   "cell_type": "markdown",
   "id": "54f921f9-6452-44b7-8863-1c0a1160cdea",
   "metadata": {},
   "source": [
    "![ping pc1 to pc4](photos/day15/ping.jpg)"
   ]
  },
  {
   "cell_type": "markdown",
   "id": "24a79957-75b4-47fe-a87b-f9f923f95062",
   "metadata": {},
   "source": [
    "That is it for this lab!"
   ]
  },
  {
   "cell_type": "code",
   "execution_count": null,
   "id": "1f032e0d-0d63-418c-8df1-3d113a2c8de6",
   "metadata": {},
   "outputs": [],
   "source": []
  }
 ],
 "metadata": {
  "kernelspec": {
   "display_name": "Python 3 (ipykernel)",
   "language": "python",
   "name": "python3"
  },
  "language_info": {
   "codemirror_mode": {
    "name": "ipython",
    "version": 3
   },
   "file_extension": ".py",
   "mimetype": "text/x-python",
   "name": "python",
   "nbconvert_exporter": "python",
   "pygments_lexer": "ipython3",
   "version": "3.11.5"
  }
 },
 "nbformat": 4,
 "nbformat_minor": 5
}
