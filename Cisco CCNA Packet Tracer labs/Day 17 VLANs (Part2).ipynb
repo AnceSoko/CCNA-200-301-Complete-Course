{
 "cells": [
  {
   "cell_type": "markdown",
   "id": "d7e25173-f242-483e-adf5-b0fee7ad30fa",
   "metadata": {},
   "source": [
    "# Day 17 | VLANs (Part 2)"
   ]
  },
  {
   "cell_type": "markdown",
   "id": "b189f1d7-806b-4126-9625-36827768d34c",
   "metadata": {},
   "source": [
    "![inicio](photos/day17/inicio.jpg)"
   ]
  },
  {
   "cell_type": "markdown",
   "id": "bb3d26bf-8160-456d-a9a4-7c57f659ff7b",
   "metadata": {},
   "source": [
    "## 1."
   ]
  },
  {
   "cell_type": "markdown",
   "id": "15fccea9-9a14-4353-876e-22b2e81d2df1",
   "metadata": {},
   "source": [
    "I'll go on SW1 first:"
   ]
  },
  {
   "cell_type": "markdown",
   "id": "584c90ad-5b95-48cd-aa04-a2b0c283fa61",
   "metadata": {},
   "source": [
    "And create VLAN10:"
   ]
  },
  {
   "cell_type": "markdown",
   "id": "26bc6e84-faa2-4a47-8ef8-a86d4c5f42eb",
   "metadata": {},
   "source": [
    "![vlan10 creation](photos/day17/vlan10.jpg)"
   ]
  },
  {
   "cell_type": "markdown",
   "id": "33824a11-b264-40d3-9b16-022896153812",
   "metadata": {},
   "source": [
    "Next up, VLAN30:"
   ]
  },
  {
   "cell_type": "markdown",
   "id": "294ec6d0-789c-452d-af0b-60b8f5d34701",
   "metadata": {},
   "source": [
    "![vlan30 creation](photos/day17/vlan30.jpg)"
   ]
  },
  {
   "cell_type": "markdown",
   "id": "95caf40b-896d-47e8-a774-04e5a17fb92c",
   "metadata": {},
   "source": [
    "That's it for SW1 for now, let's go on SW2 and create VLAN10 and VLAN20:\n"
   ]
  },
  {
   "cell_type": "markdown",
   "id": "a3d153df-edfd-4088-98fa-70d8e427c262",
   "metadata": {},
   "source": [
    "![vlan 20 creation](photos/day17/vlan20.jpg)"
   ]
  },
  {
   "cell_type": "markdown",
   "id": "b8a5e6e9-c79b-4656-941b-85ecd096cbf5",
   "metadata": {},
   "source": [
    "![vlan 10 creation](photos/day17/vlan102.jpg)"
   ]
  },
  {
   "cell_type": "markdown",
   "id": "c3f8add2-f229-4e2a-a7ab-6659f469b4e7",
   "metadata": {},
   "source": [
    "## 2."
   ]
  },
  {
   "cell_type": "markdown",
   "id": "691d76d9-3836-4ba0-b55d-a50daa090860",
   "metadata": {},
   "source": [
    "I`ll return to SW1 now:"
   ]
  },
  {
   "cell_type": "markdown",
   "id": "0da040ce-fa05-4b10-924f-1eae2fa98f32",
   "metadata": {},
   "source": [
    "![sw1 interface g0/1](photos/day17/sw1interface.jpg)"
   ]
  },
  {
   "cell_type": "markdown",
   "id": "2d2d4dba-d183-46c5-91c2-acb91a14130e",
   "metadata": {},
   "source": [
    "In some switches we have to use SWITCHPORT TRUNK ENCAPSULATION DOT1Q command before configuring the interface as a trunk. Let's see if we have to do that here:"
   ]
  },
  {
   "cell_type": "markdown",
   "id": "4bda771e-0fc8-45af-b239-3099f9476791",
   "metadata": {},
   "source": [
    "![sw1 question](photos/day17/question.jpg)"
   ]
  },
  {
   "cell_type": "markdown",
   "id": "465519e3-ffed-4055-9790-050f2e37ac2d",
   "metadata": {},
   "source": [
    "Using the ? to see available options to use after \"trunk\". As you can see, there is no option for ENCAPSULATION. This isnt the case of packet tracer not supporting the command, but rather it's because this switch itself only supports DOT1Q encapsulation. Modern switches often don's support Cisco`s ISL, since the industry standard DOT1Q is used almost exclusively."
   ]
  },
  {
   "cell_type": "markdown",
   "id": "5b424df4-5268-4a17-a7f8-32ce47242161",
   "metadata": {},
   "source": [
    "So, we can go straight to the next command:"
   ]
  },
  {
   "cell_type": "markdown",
   "id": "de8b51cf-d0ae-4268-8855-31725f8504ae",
   "metadata": {},
   "source": [
    "![sw1 trunk](photos/day17/sw1trunk.jpg)"
   ]
  },
  {
   "cell_type": "markdown",
   "id": "865c5174-01e3-4dd2-b815-52b9d8fac75c",
   "metadata": {},
   "source": [
    "Now, let's allow VLANs 10 and 30:"
   ]
  },
  {
   "cell_type": "markdown",
   "id": "2bc17825-1510-4fd3-8c6a-b510fa681b91",
   "metadata": {},
   "source": [
    "![sw1 allowed vlans](photos/day17/sw1allowed.jpg)"
   ]
  },
  {
   "cell_type": "markdown",
   "id": "651ccb8e-d85b-4f38-9420-d38681ca337b",
   "metadata": {},
   "source": [
    "Finally, let's set the native VLAN to unused VLAN:"
   ]
  },
  {
   "cell_type": "markdown",
   "id": "d6dd4bf2-0f95-4fb9-9e40-780e8dc385e5",
   "metadata": {},
   "source": [
    "![sw1 native vlan](photos/day17/sw1native.jpg)"
   ]
  },
  {
   "cell_type": "markdown",
   "id": "5da91226-77f8-4bd7-a2a8-4eb96565f671",
   "metadata": {},
   "source": [
    "You can use anything here, just use unused VLAN."
   ]
  },
  {
   "cell_type": "markdown",
   "id": "859be7b7-ac07-46e2-9e89-4c0f035f88e4",
   "metadata": {},
   "source": [
    "Let's check:"
   ]
  },
  {
   "cell_type": "markdown",
   "id": "64f0d744-1a9a-4107-864f-6ad968aaaa35",
   "metadata": {},
   "source": [
    "![sw1 show brief](photos/day17/showbrief.jpg)"
   ]
  },
  {
   "cell_type": "markdown",
   "id": "a44307ad-ebd3-4d92-a2b5-45da103be825",
   "metadata": {},
   "source": [
    "Now, let's go to SW2:"
   ]
  },
  {
   "cell_type": "markdown",
   "id": "00ea0757-1f61-41a4-bf84-b2c20af7649f",
   "metadata": {},
   "source": [
    "![sw2 vlans](photos/day17/sw2vlan.jpg)"
   ]
  },
  {
   "cell_type": "markdown",
   "id": "f6ce5aa3-0051-4084-af4d-dde90dd9fb14",
   "metadata": {},
   "source": [
    "Let's see the created vlans:"
   ]
  },
  {
   "cell_type": "markdown",
   "id": "18d29ba2-f605-49de-a3f3-64d5fc47bcfd",
   "metadata": {},
   "source": [
    "![sw2 brief](photos/day17/sw2brief.jpg)"
   ]
  },
  {
   "cell_type": "markdown",
   "id": "0012688e-04b4-4bd6-a98b-c5c6d06a04af",
   "metadata": {},
   "source": [
    "Let's see trunk interfaces:"
   ]
  },
  {
   "cell_type": "markdown",
   "id": "333bda18-9e42-4afe-b7f7-9bc07e346bd6",
   "metadata": {},
   "source": [
    "![trunk](photos/day17/trunk.jpg)"
   ]
  },
  {
   "cell_type": "markdown",
   "id": "80057e20-73c6-41d9-9bdd-44ffec302426",
   "metadata": {},
   "source": [
    "So, VLANs 10 and 30 are allowed on trunk, which is good. However, VLANs allowed and active in management domain displays only VLAN10. That's a problem, it means SW2 wont actually receive VLAN30 traffic on this trunk. That`s because VLAN30 doesn't exist yet on the switch. VLANs 10 and 20 were automatically created when we configured access ports in those VLANs, but VLAN 30 wasn't created. "
   ]
  },
  {
   "cell_type": "markdown",
   "id": "478ef549-76b8-4f8c-81f2-210bb3e2cb6d",
   "metadata": {},
   "source": [
    "So, let's make it:"
   ]
  },
  {
   "cell_type": "markdown",
   "id": "7e8c32b9-efc6-41ff-9b54-f185fd091415",
   "metadata": {},
   "source": [
    "![sw2 create vlan30](photos/day17/sw2create.jpg)"
   ]
  },
  {
   "cell_type": "markdown",
   "id": "26883f41-5cec-491e-ab82-fbefd09bc754",
   "metadata": {},
   "source": [
    "Ok, now you can see that it now appears here."
   ]
  },
  {
   "cell_type": "markdown",
   "id": "21ddef60-7e4f-4c57-910b-0ee915cf2e34",
   "metadata": {},
   "source": [
    "## 3."
   ]
  },
  {
   "cell_type": "markdown",
   "id": "aeee4cdd-3ec8-4a9b-a69a-5f5ffd59e6a1",
   "metadata": {},
   "source": [
    "Let's start by doing the configuration here on SW2 first:"
   ]
  },
  {
   "cell_type": "markdown",
   "id": "80001638-9d95-4d88-9d76-c2e36edc6ba6",
   "metadata": {},
   "source": [
    "![sw2 trunk](photos/day17/sw2trunk.jpg)"
   ]
  },
  {
   "cell_type": "markdown",
   "id": "06544011-96bb-4f98-989f-2252c32df50c",
   "metadata": {},
   "source": [
    "Now, let's go to R1:"
   ]
  },
  {
   "cell_type": "markdown",
   "id": "82653e69-0f35-47c1-bdd4-215f4d4e3721",
   "metadata": {},
   "source": [
    "First, let's activate the physical interface:"
   ]
  },
  {
   "cell_type": "markdown",
   "id": "88400b58-0aa7-457e-8974-4e28a5e78e6a",
   "metadata": {},
   "source": [
    "![r1 interface active](photos/day17/r1activate.jpg)"
   ]
  },
  {
   "cell_type": "markdown",
   "id": "0b912c37-30b7-499b-93e4-a637ea50a3be",
   "metadata": {},
   "source": [
    "Cisco router interfaces are disabled by default. "
   ]
  },
  {
   "cell_type": "markdown",
   "id": "e6fda15f-7cc6-4c8e-8dc7-0ebf8ce8ca2f",
   "metadata": {},
   "source": [
    "Now, let's configure the VLAN10 subinterface:"
   ]
  },
  {
   "cell_type": "markdown",
   "id": "7963ab12-40ef-46dd-b2fa-99860f572003",
   "metadata": {},
   "source": [
    "![r1 vlan10](photos/day17/r1vlan10.jpg)"
   ]
  },
  {
   "cell_type": "markdown",
   "id": "c71b7d46-6381-4da0-bc66-9d7f85117db7",
   "metadata": {},
   "source": [
    "Why does router address has to be the last usable address? Well, it does not have to be, but there should be a system you use. Either the first usable address, or the last usable address, as the gateway address for the subnet, so there is a consistency accross the network. Don't just use a random address for the router, or it will be difficult to understand things in a large network."
   ]
  },
  {
   "cell_type": "markdown",
   "id": "80094f58-5186-4ecb-b577-bb3961e0094e",
   "metadata": {},
   "source": [
    "Ok, now let's configure VLAN20's subinterface:"
   ]
  },
  {
   "cell_type": "markdown",
   "id": "af6bc327-5ab7-42dc-94ca-cec64978aae9",
   "metadata": {},
   "source": [
    "![r1 vlan20](photos/day17/r1vlan20.jpg)"
   ]
  },
  {
   "cell_type": "markdown",
   "id": "2599017d-6001-4847-9904-8af408f47f96",
   "metadata": {},
   "source": [
    "Finally, VLAN30's subinterface:"
   ]
  },
  {
   "cell_type": "markdown",
   "id": "98ec0141-6647-4549-905e-2f9982786fd1",
   "metadata": {},
   "source": [
    "![r1 vlan30](photos/day17/r1vlan30.jpg)"
   ]
  },
  {
   "cell_type": "markdown",
   "id": "a72b6ebc-e782-4f66-8bb6-c690c5dac73b",
   "metadata": {},
   "source": [
    "## 4."
   ]
  },
  {
   "cell_type": "markdown",
   "id": "4700ad54-6b66-4cad-998e-69b47b91a3f3",
   "metadata": {},
   "source": [
    "I'll do some pings from PC7 to test:"
   ]
  },
  {
   "cell_type": "markdown",
   "id": "5df7986a-9429-4bd1-b7f1-fea94c4efde8",
   "metadata": {},
   "source": [
    "Let's ping another PC in VLAN10, PC1:"
   ]
  },
  {
   "cell_type": "markdown",
   "id": "a3b9545b-7ea7-473c-8eb0-8f809dc13e9e",
   "metadata": {},
   "source": [
    "![ping](photos/day17/ping1.jpg)"
   ]
  },
  {
   "cell_type": "markdown",
   "id": "cd1b2e8c-0a12-4558-bf89-34cd26544bc1",
   "metadata": {},
   "source": [
    "No problems here."
   ]
  },
  {
   "cell_type": "markdown",
   "id": "a189e1d8-c85a-4edc-8028-831bf83b444d",
   "metadata": {},
   "source": [
    "Let's do the same ping, but in simulation mode to see the route:"
   ]
  },
  {
   "cell_type": "markdown",
   "id": "05f09b3b-4ab1-4bc5-a46e-d657d79c754e",
   "metadata": {},
   "source": [
    "![simulation](photos/day17/pc7simulation.jpg)"
   ]
  },
  {
   "cell_type": "markdown",
   "id": "99ff1430-aba5-45b9-8b47-6cb4f897e887",
   "metadata": {},
   "source": [
    "As you can see, because PC1 is in the same VLAN, the same subnet, PC7 sends the frame directly to PC1, no need for inter-vlan routing."
   ]
  }
 ],
 "metadata": {
  "kernelspec": {
   "display_name": "Python 3 (ipykernel)",
   "language": "python",
   "name": "python3"
  },
  "language_info": {
   "codemirror_mode": {
    "name": "ipython",
    "version": 3
   },
   "file_extension": ".py",
   "mimetype": "text/x-python",
   "name": "python",
   "nbconvert_exporter": "python",
   "pygments_lexer": "ipython3",
   "version": "3.11.5"
  }
 },
 "nbformat": 4,
 "nbformat_minor": 5
}
