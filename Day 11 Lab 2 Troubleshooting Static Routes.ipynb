{
 "cells": [
  {
   "cell_type": "markdown",
   "id": "708e661a-c72b-44f4-8a60-f282b41df7f4",
   "metadata": {},
   "source": [
    "# Day 11 Lab 2 | Troubleshooting Static Routes"
   ]
  },
  {
   "cell_type": "markdown",
   "id": "9c23dfb6-ce20-4f4f-b16a-2da13200180b",
   "metadata": {},
   "source": [
    "![inicio](photos/day11pt2/inicio.jpg)"
   ]
  },
  {
   "cell_type": "markdown",
   "id": "4173c34c-a57c-4fda-b198-7d32420905c6",
   "metadata": {},
   "source": [
    "Before we get started troubleshooting, we should confirm the problem. PC1 and PC2 should not be able to ping each other."
   ]
  },
  {
   "cell_type": "markdown",
   "id": "e9ba87c2-5db7-4be4-89cc-dff44190b6ee",
   "metadata": {},
   "source": [
    "Let's send the ping:"
   ]
  },
  {
   "cell_type": "markdown",
   "id": "eec6e1c5-1c96-4efb-8c85-329c9cc6082b",
   "metadata": {},
   "source": [
    "![ping failed](photos/day11pt2/pingfailed.jpg)"
   ]
  },
  {
   "cell_type": "markdown",
   "id": "79728bb0-a559-4697-a1a1-0ffdb4f9b90f",
   "metadata": {},
   "source": [
    "We can see that the ping does not work.  \n",
    "Although, the missconfiguration is on routers, let's check PCs configurations:"
   ]
  },
  {
   "cell_type": "markdown",
   "id": "8cdffa4f-be84-420e-86a3-ec4965c6d626",
   "metadata": {},
   "source": [
    "![ip config all](photos/day11pt2/ipconfigall.jpg)"
   ]
  },
  {
   "cell_type": "markdown",
   "id": "695ec936-491b-44bf-8101-f28474c3b8b6",
   "metadata": {},
   "source": [
    "Let's see if we can reach the Default Gateways, since to reach other networks we need to be able to reach Default Gateway.  \n",
    "As I can see, for PC1 the default gateway is 192.168.1.254  \n",
    "Let's ping it:"
   ]
  },
  {
   "cell_type": "markdown",
   "id": "bd4c746b-4880-42a1-9f14-03ee31e53566",
   "metadata": {},
   "source": [
    "![ping gateway done](photos/day11pt2/pinggateway.jpg)"
   ]
  },
  {
   "cell_type": "markdown",
   "id": "d48796ee-4107-4d72-9b05-c4c5794cdb0d",
   "metadata": {},
   "source": [
    "No problems here."
   ]
  },
  {
   "cell_type": "markdown",
   "id": "be23e8fc-9c47-4230-8973-2f95e90527ec",
   "metadata": {},
   "source": [
    "Let's go on R1 now and see if we can find the issue."
   ]
  },
  {
   "cell_type": "markdown",
   "id": "b655951a-6547-42e2-900d-f33184968854",
   "metadata": {},
   "source": [
    "In R1 CLI enter privileged exect mode and check if the interface configuration is okay."
   ]
  },
  {
   "cell_type": "markdown",
   "id": "a6c82382-3178-4dfc-855b-b5b51125cbf3",
   "metadata": {},
   "source": [
    "![ip interface](photos/day11pt2/ipinterface.jpg)"
   ]
  },
  {
   "cell_type": "markdown",
   "id": "d5023e2c-d7a5-4d36-ab59-f929dd7ed659",
   "metadata": {},
   "source": [
    "The addresses are correct and both interfaces are UP/UP, so the interface configuration is fine. "
   ]
  },
  {
   "cell_type": "markdown",
   "id": "d8468a31-aeda-415c-af9f-bc08239b34c2",
   "metadata": {},
   "source": [
    "Let's check the routing table:"
   ]
  },
  {
   "cell_type": "markdown",
   "id": "463fc2fb-d88a-4e9e-809c-64928db292ae",
   "metadata": {},
   "source": [
    "![static](photos/day11pt2/static.jpg)"
   ]
  },
  {
   "cell_type": "markdown",
   "id": "7ffd4a96-58f2-4caa-ac36-5de80161d5cf",
   "metadata": {},
   "source": [
    "Here is the Static route for the 192.168.3.0/24 network. It says via 192.168.12.3, but actually the next hop address should be 192.168.12.2, which is the IP address of R2's g0/0 interface."
   ]
  },
  {
   "cell_type": "markdown",
   "id": "b268869d-c0fa-44c5-b7c3-269175765c79",
   "metadata": {},
   "source": [
    "Show running-config and then include pipe simbol to filter the output, include and then ip route:"
   ]
  },
  {
   "cell_type": "markdown",
   "id": "bb8d75a8-8d0f-4b1b-bf93-8de076b1e2d0",
   "metadata": {},
   "source": [
    "![ip route](photos/day11pt2/iproute.jpg)"
   ]
  },
  {
   "cell_type": "markdown",
   "id": "1237f453-a78d-479b-b164-a80a278d323a",
   "metadata": {},
   "source": [
    "Here you can see the configuration statement.  \n",
    "I'm going to copy it and then go to global config mode and paste in the configuration statement that I just copied and use the keyboard shortcut CTRL+A to go to the beginning of the line, type NO followed by a space and then hit Enter.  \n",
    "And that deletes that configuration statement."
   ]
  },
  {
   "cell_type": "markdown",
   "id": "cfeef887-960c-4a39-b9b5-e1b38d51a04e",
   "metadata": {},
   "source": [
    "![cancel configuration](photos/day11pt2/noconfig.jpg)"
   ]
  },
  {
   "cell_type": "markdown",
   "id": "953443fa-c319-44e5-91a2-a97568b8352a",
   "metadata": {},
   "source": [
    "Let's check"
   ]
  },
  {
   "cell_type": "markdown",
   "id": "a46b81fa-16c3-45d5-87bb-3d33876eabb6",
   "metadata": {},
   "source": [
    "Type in the command in blue and hit Enter. Nothing is shown, meaning that it's gone:"
   ]
  },
  {
   "cell_type": "markdown",
   "id": "b27d5c72-64f0-4e70-90f0-bcff0511131c",
   "metadata": {},
   "source": [
    "![gone](photos/day11pt2/gone.jpg)"
   ]
  },
  {
   "cell_type": "markdown",
   "id": "3b7bb039-9425-4a9b-898a-d86d14cbc4c6",
   "metadata": {},
   "source": [
    "Now I will paste in the configuration statement once more and change the 3 to a 2, hit Enter and use up arrow to go back to the show-running config command and now you can see we have the correct configuration statement:"
   ]
  },
  {
   "cell_type": "markdown",
   "id": "b0a0411b-6ff7-43e0-83a8-6f8a7a1d24aa",
   "metadata": {},
   "source": [
    "![correct](photos/day11pt2/correct.jpg)"
   ]
  },
  {
   "cell_type": "markdown",
   "id": "b30aa93d-62b0-4e93-828d-70be47a083b9",
   "metadata": {},
   "source": [
    "Let's check the routing table one last time:"
   ]
  },
  {
   "cell_type": "markdown",
   "id": "6a3a7ae9-a56d-4140-a29d-bb3e73acec19",
   "metadata": {},
   "source": [
    "![fixed](photos/day11pt2/fixed.jpg)"
   ]
  },
  {
   "cell_type": "markdown",
   "id": "72509fe4-79a3-40bb-86f8-98331fbbf9ac",
   "metadata": {},
   "source": [
    "Ok, there is the correct route, so we have fixed the problem on R1."
   ]
  },
  {
   "cell_type": "markdown",
   "id": "8f717d0d-e295-477e-9934-d6299418ce07",
   "metadata": {},
   "source": [
    "Now let's move on to R2"
   ]
  },
  {
   "cell_type": "markdown",
   "id": "cc215e60-975b-4fdd-a61a-b19ebe45bc42",
   "metadata": {},
   "source": [
    "The IP addresses are both correct and the interfaces are both UP/UP, so no problems here"
   ]
  },
  {
   "cell_type": "markdown",
   "id": "52bb5e74-3226-4a46-bbeb-2c1b65917e12",
   "metadata": {},
   "source": [
    "![r2](photos/day11pt2/r2.jpg)"
   ]
  },
  {
   "cell_type": "markdown",
   "id": "7980c6a8-9e48-42d6-9d2c-051c71b0b6c6",
   "metadata": {},
   "source": [
    "Let's check the routing table:"
   ]
  },
  {
   "cell_type": "markdown",
   "id": "e3f5a4bc-be5e-4336-bc67-b547dc64af58",
   "metadata": {},
   "source": [
    "![routing table](photos/day11pt2/routingtable.jpg)"
   ]
  },
  {
   "cell_type": "markdown",
   "id": "afc18325-6019-4f8e-8470-ca725cf01549",
   "metadata": {},
   "source": [
    "We have two static routes, as expected. 192.168.1.0/24 via 192.168.12.1 is correct  \n",
    "and 192.168.3.0/24, with an exit interface GigabitEthernet0/0 <- there's our problem"
   ]
  },
  {
   "cell_type": "markdown",
   "id": "d38de49f-4af5-44e8-bfb7-5935c09a1b41",
   "metadata": {},
   "source": [
    "To reach the 192.168.3.0/24 network, R2 should use the GigabitEthernet0/1 interface not 0/0"
   ]
  },
  {
   "cell_type": "markdown",
   "id": "c83cde4b-de6b-480b-a78c-5da7e9e791c9",
   "metadata": {},
   "source": [
    "Let's see what happens if I enter the correct route without removing the incorrect route:"
   ]
  },
  {
   "cell_type": "markdown",
   "id": "c680bb35-3fc3-4f44-a160-ce9ebc2f039e",
   "metadata": {},
   "source": [
    "![routes](photos/day11pt2/routes.jpg)"
   ]
  },
  {
   "cell_type": "markdown",
   "id": "ae31596d-cb20-44af-8561-17616fe912cd",
   "metadata": {},
   "source": [
    "```commandline\n",
    "configure terminal  \n",
    "ip route 192.168.3.0 255.255.255.0 g0/1  \n",
    "do show ip route"
   ]
  },
  {
   "cell_type": "markdown",
   "id": "f162c611-f24b-4054-87ec-55c130dd233a",
   "metadata": {},
   "source": [
    "We can see that both routes are kept in the routing table, the second does not override the first one.  \n",
    "Because both are in the routing table, the router will 'load-balance' over the two routes, sending some packets out of g0/0, and some packets out of g0/1. Sometimes load-balancing is a good thing, but not in this case, because the g0/0 interface is totally wrong, so we should remove that configuration statement."
   ]
  },
  {
   "cell_type": "markdown",
   "id": "1917b662-2307-47d5-97fd-397aa52af16b",
   "metadata": {},
   "source": [
    "```commandline\n",
    "do show run | include ip route"
   ]
  },
  {
   "cell_type": "markdown",
   "id": "c2cfc475-f6b1-46cd-8b32-e4e792382a19",
   "metadata": {},
   "source": [
    "Copy the IP route that we need to delete, paste it in the new line, press CTRL+A to move to the beginning of the line and type NO, press Enter.  \n",
    "Now let's check are the changes that we needed done correctly by typing do show ip route:"
   ]
  },
  {
   "cell_type": "markdown",
   "id": "9a7a0fcd-837d-45ec-94a0-9b90677e3399",
   "metadata": {},
   "source": [
    "![r2 done](photos/day11pt2/r2done.jpg)"
   ]
  },
  {
   "cell_type": "markdown",
   "id": "a057dbab-c7d1-480b-a571-dc25255aced7",
   "metadata": {},
   "source": [
    "Ok, now we only have one route to 192.168.3.0/24, using the correct interface 0/1"
   ]
  },
  {
   "cell_type": "markdown",
   "id": "c178ac07-cc86-49ad-a4ea-6118b6a9f76c",
   "metadata": {},
   "source": [
    "Finally, let's look for an issue on R3."
   ]
  },
  {
   "cell_type": "markdown",
   "id": "efed7bc6-6bd1-48c7-b63e-e37f8e5bfa5f",
   "metadata": {},
   "source": [
    "![r3 wrong](photos/day11pt2/r3wrong.jpg)"
   ]
  },
  {
   "cell_type": "markdown",
   "id": "d2af743a-3c53-4352-a4ff-64befbc0738e",
   "metadata": {},
   "source": [
    "We can see that the IP address is incorrect. It should be 192.168.13.3"
   ]
  },
  {
   "cell_type": "markdown",
   "id": "b830748b-be59-4b85-bcfa-360829beb9a7",
   "metadata": {},
   "source": [
    "Let's fix that"
   ]
  },
  {
   "cell_type": "markdown",
   "id": "0fa2aea7-bcd5-4cfb-a8ee-6745acc5acd8",
   "metadata": {},
   "source": [
    "```commandline\n",
    "int g0/0  \n"
   ]
  },
  {
   "cell_type": "markdown",
   "id": "8c67193d-a5bf-42d1-bbc2-46073c5ed54e",
   "metadata": {},
   "source": [
    "Now, unlike when configuring routes, we don't have to remove the current configuration first. IF we enter a new IP address, it will overwrite the current IP address:"
   ]
  },
  {
   "cell_type": "markdown",
   "id": "960c2328-48ca-4a8d-a30d-1f943eaa3070",
   "metadata": {},
   "source": [
    "![new ip](photos/day11pt2/newip.jpg)"
   ]
  },
  {
   "cell_type": "markdown",
   "id": "086aaa47-5c3d-475a-8369-5efa7d4819dd",
   "metadata": {},
   "source": [
    "Let's check the configuration again, to see if it really changed the IP address:"
   ]
  },
  {
   "cell_type": "markdown",
   "id": "fee20899-74d7-4db4-935e-bf3f936ac63f",
   "metadata": {},
   "source": [
    "```commandline\n",
    "do show-running config"
   ]
  },
  {
   "cell_type": "markdown",
   "id": "c9d367bc-8eff-44c5-ba18-ef78ffa1fcd8",
   "metadata": {},
   "source": [
    "![correct ip](photos/day11pt2/goodip.jpg)"
   ]
  },
  {
   "cell_type": "markdown",
   "id": "525c6ae9-7b56-4768-9d5f-355c313fd314",
   "metadata": {},
   "source": [
    "As you cna see the previous configuration was automatically overwritten, we did not need to delete it first."
   ]
  },
  {
   "cell_type": "markdown",
   "id": "80ad2b86-0614-4ecd-a4bc-8d733f1a1e72",
   "metadata": {},
   "source": [
    "Now, that we have finished the misconfigurations, let's get back to PC1 and try out that ping. The first ping, or two, might fail, but after that the ping should be sent. "
   ]
  },
  {
   "cell_type": "markdown",
   "id": "3a083129-32d5-46d1-ab22-c78fbc44c296",
   "metadata": {},
   "source": [
    "![lab done](photos/day11pt2/labdone.jpg)"
   ]
  },
  {
   "cell_type": "markdown",
   "id": "bc7abba5-bbf1-4156-80dd-a2de8384d31e",
   "metadata": {},
   "source": [
    "Alright, after finding and fixing misconfigurations on R1, R2 and R3, PC1 is able to ping PC2."
   ]
  },
  {
   "cell_type": "markdown",
   "id": "36588967-5c6a-43f5-badc-e03dcb7f2369",
   "metadata": {},
   "source": [
    "Lab finished!"
   ]
  },
  {
   "cell_type": "code",
   "execution_count": null,
   "id": "e5dd621f-872b-4d2a-9b13-ec9657525579",
   "metadata": {},
   "outputs": [],
   "source": []
  }
 ],
 "metadata": {
  "kernelspec": {
   "display_name": "Python 3 (ipykernel)",
   "language": "python",
   "name": "python3"
  },
  "language_info": {
   "codemirror_mode": {
    "name": "ipython",
    "version": 3
   },
   "file_extension": ".py",
   "mimetype": "text/x-python",
   "name": "python",
   "nbconvert_exporter": "python",
   "pygments_lexer": "ipython3",
   "version": "3.11.5"
  }
 },
 "nbformat": 4,
 "nbformat_minor": 5
}
